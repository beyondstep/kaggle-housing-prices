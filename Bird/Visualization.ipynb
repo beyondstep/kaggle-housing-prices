{
 "cells": [
  {
   "cell_type": "code",
   "execution_count": 1,
   "metadata": {},
   "outputs": [],
   "source": [
    "pwd"
   ]
  },
  {
   "cell_type": "code",
   "execution_count": 2,
   "metadata": {},
   "outputs": [],
   "source": [
    "import pandas as pd\n",
    "import numpy as np"
   ]
  },
  {
   "cell_type": "code",
   "execution_count": 3,
   "metadata": {},
   "outputs": [],
   "source": [
    "import pandas as pd\n",
    "import numpy as np\n",
    "import seaborn as sns"
   ]
  },
  {
   "cell_type": "code",
   "execution_count": 4,
   "metadata": {},
   "outputs": [],
   "source": [
    "import pandas as pd\n",
    "import numpy as np\n",
    "import seaborn as sns\n",
    "from matplotlib import pyplot as plt\n",
    "plt.style.use('ggplot')"
   ]
  },
  {
   "cell_type": "code",
   "execution_count": 5,
   "metadata": {},
   "outputs": [],
   "source": [
    "%matplotlib inline"
   ]
  },
  {
   "cell_type": "code",
   "execution_count": 6,
   "metadata": {},
   "outputs": [],
   "source": [
    "import pandas as pd\n",
    "import numpy as np\n",
    "import seaborn as sns\n",
    "from matplotlib import pyplot as plt\n",
    "plt.style.use('ggplot')"
   ]
  },
  {
   "cell_type": "code",
   "execution_count": 7,
   "metadata": {},
   "outputs": [],
   "source": [
    "raw_train = pd.read_csv(\"./data/train.csv\")"
   ]
  },
  {
   "cell_type": "code",
   "execution_count": 8,
   "metadata": {},
   "outputs": [],
   "source": [
    "raw_train = pd.read_csv(\"../data/train.csv\")"
   ]
  },
  {
   "cell_type": "code",
   "execution_count": 9,
   "metadata": {},
   "outputs": [],
   "source": [
    "f, ax = plt.subplots(figsize=(50, 30))\n",
    "corr = raw_train.corr()\n",
    "hm = sns.heatmap(round(corr,2), annot=True, ax=ax, cmap=\"coolwarm\",fmt='.2f',\n",
    "                 linewidths=.1)\n",
    "f.subplots_adjust(top=0.99)\n",
    "t= f.suptitle('Correlation', fontsize=25)"
   ]
  },
  {
   "cell_type": "code",
   "execution_count": 10,
   "metadata": {},
   "outputs": [],
   "source": [
    "raw_train = pd.read_csv(\"../data/train.csv\")\n",
    "del(raw_train['Id'])"
   ]
  },
  {
   "cell_type": "code",
   "execution_count": 11,
   "metadata": {},
   "outputs": [],
   "source": [
    "f, ax = plt.subplots(figsize=(50, 30))\n",
    "corr = raw_train.corr()\n",
    "hm = sns.heatmap(round(corr,2), annot=True, ax=ax, cmap=\"coolwarm\",fmt='.2f',\n",
    "                 linewidths=.1)\n",
    "f.subplots_adjust(top=0.99)\n",
    "t= f.suptitle('Correlation', fontsize=25)"
   ]
  },
  {
   "cell_type": "code",
   "execution_count": 12,
   "metadata": {},
   "outputs": [],
   "source": [
    "f, ax = plt.subplots(figsize=(50, 30))\n",
    "corr = raw_train.corr()\n",
    "hm = sns.heatmap(round(corr,2), annot=True, ax=ax, cmap=\"coolwarm\",fmt='.2f',\n",
    "                 linewidths=.1)\n",
    "f.subplots_adjust(top=0.99)"
   ]
  },
  {
   "cell_type": "code",
   "execution_count": 13,
   "metadata": {},
   "outputs": [],
   "source": [
    "f, ax = plt.subplots(figsize=(50, 30))\n",
    "corr = raw_train.corr()\n",
    "hm = sns.heatmap(round(corr,2), annot=True, ax=ax, cmap=\"coolwarm\",fmt='.2f',\n",
    "                 linewidths=.1)\n",
    "f.subplots_adjust(top=0.80)"
   ]
  },
  {
   "cell_type": "code",
   "execution_count": 14,
   "metadata": {},
   "outputs": [],
   "source": [
    "f, ax = plt.subplots(figsize=(50, 30))\n",
    "corr = raw_train.corr()\n",
    "hm = sns.heatmap(round(corr,2), annot=True, ax=ax, cmap=\"coolwarm\",fmt='.2f',\n",
    "                 linewidths=.1)"
   ]
  },
  {
   "cell_type": "code",
   "execution_count": 15,
   "metadata": {},
   "outputs": [],
   "source": [
    "f, ax = plt.subplots(figsize=(50, 30))\n",
    "corr = raw_train.corr()\n",
    "hm = sns.heatmap(round(corr,2), annot=True, ax=ax, cmap=\"coolwarm\",fmt='.2f',\n",
    "                 linewidths=.1)\n",
    "ax.set_title('Correlation Map')"
   ]
  },
  {
   "cell_type": "code",
   "execution_count": 16,
   "metadata": {},
   "outputs": [],
   "source": [
    "f, ax = plt.subplots(figsize=(50, 30))\n",
    "corr = raw_train.corr()\n",
    "hm = sns.heatmap(round(corr,2), annot=True, ax=ax, cmap=\"coolwarm\",fmt='.2f',\n",
    "                 linewidths=.1)\n",
    "ax.set_title('lalala', fontsize=25)"
   ]
  },
  {
   "cell_type": "code",
   "execution_count": 17,
   "metadata": {},
   "outputs": [],
   "source": [
    "f, ax = plt.subplots(figsize=(50, 30))\n",
    "corr = raw_train.corr()\n",
    "hm = sns.heatmap(round(corr,2), annot=True, ax=ax, cmap=\"coolwarm\",fmt='.2f',\n",
    "                 linewidths=.1)\n",
    "ax.set_title('Correlation Map', fontsize=40)"
   ]
  },
  {
   "cell_type": "code",
   "execution_count": 18,
   "metadata": {},
   "outputs": [],
   "source": [
    "f, ax = plt.subplots(figsize=(50, 30))\n",
    "corr = raw_train.corr()\n",
    "hm = sns.heatmap(round(corr,2), annot=True, ax=ax, cmap=\"coolwarm\",fmt='.2f',\n",
    "                 linewidths=.1)\n",
    "ax.set_title('Correlation Map', fontsize=60)"
   ]
  },
  {
   "cell_type": "code",
   "execution_count": 19,
   "metadata": {},
   "outputs": [],
   "source": [
    "f, ax = plt.subplots(figsize=(50, 30))\n",
    "corr = raw_train.corr()\n",
    "sns.set(font_scale=2.0)\n",
    "hm = sns.heatmap(round(corr,2), annot=True, ax=ax, cmap=\"coolwarm\",fmt='.2f',\n",
    "                 linewidths=.1)\n",
    "ax.set_title('Correlation Map', fontsize=60)"
   ]
  },
  {
   "cell_type": "code",
   "execution_count": 20,
   "metadata": {},
   "outputs": [],
   "source": [
    "f, ax = plt.subplots(figsize=(50, 30))\n",
    "corr = raw_train.corr()\n",
    "sns.set(font_scale=2.0)\n",
    "hm = sns.heatmap(round(corr,2), annot=True, ax=ax, cmap=\"coolwarm\",fmt='.2f',\n",
    "                 linewidths=.1, fontsize = 12)\n",
    "ax.set_title('Correlation Map', fontsize=60)"
   ]
  },
  {
   "cell_type": "code",
   "execution_count": 21,
   "metadata": {},
   "outputs": [],
   "source": [
    "f, ax = plt.subplots(figsize=(50, 30))\n",
    "corr = raw_train.corr()\n",
    "sns.set(font_scale=2.0)\n",
    "hm = sns.heatmap(round(corr,2), annot=True, ax=ax, cmap=\"coolwarm\",fmt='.2f',\n",
    "                 linewidths=.1, fontsize=12)\n",
    "ax.set_title('Correlation Map', fontsize=60)"
   ]
  },
  {
   "cell_type": "code",
   "execution_count": 22,
   "metadata": {},
   "outputs": [],
   "source": [
    "f, ax = plt.subplots(figsize=(50, 30))\n",
    "corr = raw_train.corr()\n",
    "sns.set(font_scale=2.0)\n",
    "hm = sns.heatmap(round(corr,2), annot=True, ax=ax, cmap=\"coolwarm\",fmt='.2f',\n",
    "                 linewidths=.1)\n",
    "ax.set_title('Correlation Map', fontsize=60)"
   ]
  },
  {
   "cell_type": "code",
   "execution_count": 23,
   "metadata": {},
   "outputs": [],
   "source": [
    "f, ax = plt.subplots(figsize=(50, 30))\n",
    "corr = raw_train.corr()\n",
    "sns.set(font_scale=3.0)\n",
    "hm = sns.heatmap(round(corr,2), annot=True, ax=ax, cmap=\"coolwarm\",fmt='.2f',\n",
    "                 linewidths=.1)\n",
    "ax.set_title('Correlation Map', fontsize=60)"
   ]
  },
  {
   "cell_type": "code",
   "execution_count": 24,
   "metadata": {},
   "outputs": [],
   "source": [
    "f, ax = plt.subplots(figsize=(50, 30))\n",
    "corr = raw_train.corr()\n",
    "sns.set(font_scale=2.0)\n",
    "hm = sns.heatmap(round(corr,2), annot=True, ax=ax, cmap=\"coolwarm\",fmt='.2f',\n",
    "                 linewidths=.1)\n",
    "ax.set_title('Correlation Map', fontsize=60)"
   ]
  },
  {
   "cell_type": "code",
   "execution_count": 25,
   "metadata": {},
   "outputs": [],
   "source": [
    "sns.pairplot(raw_train)"
   ]
  },
  {
   "cell_type": "code",
   "execution_count": 26,
   "metadata": {},
   "outputs": [],
   "source": [
    "raw_train.columns"
   ]
  },
  {
   "cell_type": "code",
   "execution_count": 27,
   "metadata": {},
   "outputs": [],
   "source": [
    "raw_train.dtypes"
   ]
  },
  {
   "cell_type": "code",
   "execution_count": 28,
   "metadata": {},
   "outputs": [],
   "source": [
    "Cont_variables = raw_train[['LotFrontage', 'LotArea', 'MnsVnrArea', 'GarageArea', 'SalePrice','GrLivArea']]"
   ]
  },
  {
   "cell_type": "code",
   "execution_count": 29,
   "metadata": {},
   "outputs": [],
   "source": [
    "Cont_variables = raw_train[['LotFrontage', 'LotArea', 'MnsVnrArea', 'GarageArea', 'SalePrice','GrLivArea']]]"
   ]
  },
  {
   "cell_type": "code",
   "execution_count": 30,
   "metadata": {},
   "outputs": [],
   "source": [
    "Cont_variables = raw_train[['LotFrontage', 'LotArea', 'MnsVnrArea', 'GarageArea', 'SalePrice','GrLivArea']]"
   ]
  },
  {
   "cell_type": "code",
   "execution_count": 31,
   "metadata": {},
   "outputs": [],
   "source": [
    "Cont_variables = raw_train[['LotFrontage', 'LotArea', 'MasVnrArea', 'GarageArea', 'SalePrice','GrLivArea']]"
   ]
  },
  {
   "cell_type": "code",
   "execution_count": 32,
   "metadata": {},
   "outputs": [],
   "source": [
    "sns.pairplot(Cont_variables)"
   ]
  },
  {
   "cell_type": "code",
   "execution_count": 33,
   "metadata": {},
   "outputs": [],
   "source": [
    "g.map_diag(sns.kdeplot)\n",
    "g.map_offdiag(sns.kdeplot, n_levels=6)"
   ]
  },
  {
   "cell_type": "code",
   "execution_count": 34,
   "metadata": {},
   "outputs": [],
   "source": [
    "Cont_variables.map_diag(sns.kdeplot)\n",
    "Cont_variables.map_offdiag(sns.kdeplot, n_levels=6)"
   ]
  },
  {
   "cell_type": "code",
   "execution_count": 35,
   "metadata": {},
   "outputs": [],
   "source": [
    "f, ax = plt.subplots(figsize=(6, 6))\n",
    "cmap = sns.cubehelix_palette(as_cmap=True, dark=0, light=1, reverse=True)\n",
    "sns.kdeplot(df.MSSubClass, df.SalePrice, cmap=cmap, n_levels=60, shade=True);"
   ]
  },
  {
   "cell_type": "code",
   "execution_count": 36,
   "metadata": {},
   "outputs": [],
   "source": [
    "f, ax = plt.subplots(figsize=(6, 6))\n",
    "cmap = sns.cubehelix_palette(as_cmap=True, dark=0, light=1, reverse=True)\n",
    "sns.kdeplot(raw_train.MSSubClass, raw_train.SalePrice, cmap=cmap, n_levels=60, shade=True);"
   ]
  },
  {
   "cell_type": "code",
   "execution_count": 37,
   "metadata": {},
   "outputs": [],
   "source": [
    "f, ax = plt.subplots(figsize=(6, 6))\n",
    "sns.set(font_scale=1.4)\n",
    "cmap = sns.cubehelix_palette(as_cmap=True, dark=0, light=1, reverse=True)\n",
    "sns.kdeplot(raw_train.MSSubClass, raw_train.SalePrice, cmap=cmap, n_levels=60, shade=True);"
   ]
  },
  {
   "cell_type": "code",
   "execution_count": 38,
   "metadata": {},
   "outputs": [],
   "source": [
    "f, ax = plt.subplots(figsize=(30, 10)\n",
    "sns.set(font_scale=1.4)\n",
    "cmap = sns.cubehelix_palette(as_cmap=True, dark=0, light=1, reverse=True)\n",
    "sns.kdeplot(raw_train.MSSubClass, raw_train.SalePrice, cmap=cmap, n_levels=60, shade=True);"
   ]
  },
  {
   "cell_type": "code",
   "execution_count": 39,
   "metadata": {},
   "outputs": [],
   "source": [
    "f, ax = plt.subplots(figsize=(30, 10))\n",
    "sns.set(font_scale=1.4)\n",
    "cmap = sns.cubehelix_palette(as_cmap=True, dark=0, light=1, reverse=True)\n",
    "sns.kdeplot(raw_train.MSSubClass, raw_train.SalePrice, cmap=cmap, n_levels=60, shade=True);"
   ]
  },
  {
   "cell_type": "code",
   "execution_count": 40,
   "metadata": {},
   "outputs": [],
   "source": [
    "f, ax = plt.subplots(figsize=(30, 10))\n",
    "sns.set(font_scale=2.0)\n",
    "cmap = sns.cubehelix_palette(as_cmap=True, dark=0, light=1, reverse=True)\n",
    "sns.kdeplot(raw_train.MSSubClass, raw_train.SalePrice, cmap=cmap, n_levels=60, shade=True);"
   ]
  },
  {
   "cell_type": "code",
   "execution_count": 41,
   "metadata": {},
   "outputs": [],
   "source": [
    "f, ax = plt.subplots(figsize=(30, 10))\n",
    "sns.set(font_scale=2.0)\n",
    "cmap = sns.cubehelix_palette(as_cmap=True, dark=0, light=1, reverse=True)\n",
    "sns.kdeplot(raw_train.MSSubClass, raw_train.SalePrice, cmap=cmap, n_levels=100, shade=True);"
   ]
  },
  {
   "cell_type": "code",
   "execution_count": 42,
   "metadata": {},
   "outputs": [],
   "source": [
    "import missingno as msno"
   ]
  },
  {
   "cell_type": "code",
   "execution_count": 43,
   "metadata": {},
   "outputs": [],
   "source": [
    "pip install missingno"
   ]
  },
  {
   "cell_type": "code",
   "execution_count": 44,
   "metadata": {},
   "outputs": [],
   "source": [
    "import missingno as msno"
   ]
  },
  {
   "cell_type": "code",
   "execution_count": 45,
   "metadata": {},
   "outputs": [],
   "source": [
    "import missingno as msno\n",
    "msno.matrix(raw_train)"
   ]
  },
  {
   "cell_type": "code",
   "execution_count": 46,
   "metadata": {},
   "outputs": [],
   "source": [
    "import missingno as msno\n",
    "msno.matrix(raw_train.sample(500))"
   ]
  },
  {
   "cell_type": "code",
   "execution_count": 47,
   "metadata": {},
   "outputs": [],
   "source": [
    "import missingno as msno\n",
    "msno.matrix(raw_train.sample(500), filter='top', n=5, p=0.9, sort='ascending'))"
   ]
  },
  {
   "cell_type": "code",
   "execution_count": 48,
   "metadata": {},
   "outputs": [],
   "source": [
    "import missingno as msno\n",
    "msno.matrix(raw_train.sample(500), filter='top', n=5, p=0.9, sort='ascending')"
   ]
  },
  {
   "cell_type": "code",
   "execution_count": 49,
   "metadata": {},
   "outputs": [],
   "source": [
    "import missingno as msno\n",
    "msno.matrix(raw_train.sample(500), filter='top', n=5, p=0.9, sort='decending')"
   ]
  },
  {
   "cell_type": "code",
   "execution_count": 50,
   "metadata": {},
   "outputs": [],
   "source": [
    "import missingno as msno\n",
    "msno.matrix(raw_train.sample(500), filter='top', n=81, p=0.9, sort='decending')"
   ]
  },
  {
   "cell_type": "code",
   "execution_count": 51,
   "metadata": {},
   "outputs": [],
   "source": [
    "import missingno as msno\n",
    "msno.matrix(raw_train.sample(500), filter='top', n=81, sort='decending')"
   ]
  },
  {
   "cell_type": "code",
   "execution_count": 52,
   "metadata": {},
   "outputs": [],
   "source": [
    "import missingno as msno\n",
    "msno.matrix(raw_train.sample(500) n=81, sort='decending')"
   ]
  },
  {
   "cell_type": "code",
   "execution_count": 53,
   "metadata": {},
   "outputs": [],
   "source": [
    "import missingno as msno\n",
    "msno.matrix(raw_train.sample(500), n=81, sort='decending')"
   ]
  },
  {
   "cell_type": "code",
   "execution_count": 54,
   "metadata": {},
   "outputs": [],
   "source": [
    "raw_train.columns[raw_train.isnull().any()]"
   ]
  },
  {
   "cell_type": "code",
   "execution_count": 55,
   "metadata": {},
   "outputs": [],
   "source": [
    "raw_train1 = raw_train[['LotFrontage', 'Alley', 'MasVnrType', 'MasVnrArea', 'BsmtQual',\n",
    "       'BsmtCond', 'BsmtExposure', 'BsmtFinType1', 'BsmtFinType2',\n",
    "       'Electrical', 'FireplaceQu', 'GarageType', 'GarageYrBlt',\n",
    "       'GarageFinish', 'GarageQual', 'GarageCond', 'PoolQC', 'Fence',\n",
    "       'MiscFeature']]"
   ]
  },
  {
   "cell_type": "code",
   "execution_count": 56,
   "metadata": {},
   "outputs": [],
   "source": [
    "import missingno as msno\n",
    "msno.matrix(raw_train1, sort='decending')"
   ]
  },
  {
   "cell_type": "code",
   "execution_count": 57,
   "metadata": {},
   "outputs": [],
   "source": [
    " msno.heatmap(raw_train)"
   ]
  },
  {
   "cell_type": "code",
   "execution_count": 58,
   "metadata": {},
   "outputs": [],
   "source": [
    "import missingno as msno\n",
    "msno.matrix(raw_train1, sort='decending', color = (0.50, 0.25, 0.25))"
   ]
  },
  {
   "cell_type": "code",
   "execution_count": 59,
   "metadata": {},
   "outputs": [],
   "source": [
    "import missingno as msno\n",
    "msno.matrix(raw_train1, sort='decending', color = (0.50, 0.12, 0.32))"
   ]
  },
  {
   "cell_type": "code",
   "execution_count": 60,
   "metadata": {},
   "outputs": [],
   "source": [
    "import missingno as msno\n",
    "msno.matrix(raw_train1, sort='decending', color = (0.50, 0.12, 0.32), sparkline = False)"
   ]
  },
  {
   "cell_type": "code",
   "execution_count": 61,
   "metadata": {},
   "outputs": [],
   "source": [
    "import missingno as msno\n",
    "msno.matrix(raw_train1, sort='ascending', color = (0.50, 0.12, 0.32), sparkline = False)\n",
    "#Sparkline show the sidebar line which I don't know how to interpre."
   ]
  },
  {
   "cell_type": "code",
   "execution_count": 62,
   "metadata": {},
   "outputs": [],
   "source": [
    "import missingno as msno\n",
    "msno.matrix(raw_train1, sort='decending', color = (0.50, 0.12, 0.32), sparkline = False)\n",
    "#Sparkline show the sidebar line which I don't know how to interpre."
   ]
  },
  {
   "cell_type": "code",
   "execution_count": 63,
   "metadata": {},
   "outputs": [],
   "source": [
    "import missingno as msno\n",
    "msno.matrix(raw_train1, sort='decending', color = (0.50, 0.12, 0.32), sparkline = False)\n",
    "#Sparkline show the sidebar line which I don't know how to interpret; therefore, I set it to False."
   ]
  },
  {
   "cell_type": "code",
   "execution_count": 64,
   "metadata": {},
   "outputs": [],
   "source": [
    "def draw_histograms(df, variables, n_rows, n_cols):\n",
    "    fig=plt.figure()\n",
    "    for i, var_name in enumerate(variables):\n",
    "        ax=fig.add_subplot(n_rows,n_cols,i+1)\n",
    "        df[var_name].hist(bins=10,ax=ax)\n",
    "        ax.set_title(var_name+\" Distribution\")\n",
    "    fig.tight_layout()  # Improves appearance a bit.\n",
    "    plt.show()\n",
    "\n",
    "draw_histograms(raw_train)"
   ]
  },
  {
   "cell_type": "code",
   "execution_count": 65,
   "metadata": {},
   "outputs": [],
   "source": [
    "def draw_histograms(df, variables):\n",
    "    fig=plt.figure()\n",
    "    for i, var_name in enumerate(variables):\n",
    "        ax=fig.add_subplot()\n",
    "        df[var_name].hist(bins=10,ax=ax)\n",
    "        ax.set_title(var_name+\" Distribution\")\n",
    "    fig.tight_layout()  # Improves appearance a bit.\n",
    "    plt.show()\n",
    "\n",
    "draw_histograms(raw_train)"
   ]
  },
  {
   "cell_type": "code",
   "execution_count": 66,
   "metadata": {},
   "outputs": [],
   "source": [
    "def draw_histograms(df):\n",
    "    fig=plt.figure()\n",
    "    for i, var_name in enumerate(variables):\n",
    "        ax=fig.add_subplot()\n",
    "        df[var_name].hist(bins=10,ax=ax)\n",
    "        ax.set_title(var_name+\" Distribution\")\n",
    "    fig.tight_layout()  # Improves appearance a bit.\n",
    "    plt.show()\n",
    "\n",
    "draw_histograms(raw_train)"
   ]
  },
  {
   "cell_type": "code",
   "execution_count": 67,
   "metadata": {},
   "outputs": [],
   "source": [
    "pd.options.display.mpl_style = 'default'\n",
    "raw_train.boxplot()"
   ]
  },
  {
   "cell_type": "code",
   "execution_count": 68,
   "metadata": {},
   "outputs": [],
   "source": [
    "import matplotlib.pyplot as plt\n",
    "pd.options.display.mpl_style = 'default'\n",
    "raw_train.boxplot()"
   ]
  },
  {
   "cell_type": "code",
   "execution_count": 69,
   "metadata": {},
   "outputs": [],
   "source": [
    "raw_train.hist()"
   ]
  },
  {
   "cell_type": "code",
   "execution_count": 70,
   "metadata": {},
   "outputs": [],
   "source": [
    "raw_train.hist(figsize = (50,100))"
   ]
  },
  {
   "cell_type": "code",
   "execution_count": 71,
   "metadata": {},
   "outputs": [],
   "source": [
    "raw_train.hist(figsize = (100,100))"
   ]
  },
  {
   "cell_type": "code",
   "execution_count": 72,
   "metadata": {},
   "outputs": [],
   "source": [
    "raw_train.hist(figsize = (50,100))"
   ]
  },
  {
   "cell_type": "code",
   "execution_count": 73,
   "metadata": {},
   "outputs": [],
   "source": [
    "raw_train.columns"
   ]
  },
  {
   "cell_type": "code",
   "execution_count": 74,
   "metadata": {},
   "outputs": [],
   "source": [
    "raw_train['MSSubClass'].value_counts()"
   ]
  },
  {
   "cell_type": "code",
   "execution_count": 75,
   "metadata": {},
   "outputs": [],
   "source": [
    "from pandas.plotting import scatter_matrix\n",
    "scatter_matrix(raw_train, alpha=0.2, figsize=(6, 6), diagonal='kde')"
   ]
  },
  {
   "cell_type": "code",
   "execution_count": 76,
   "metadata": {},
   "outputs": [],
   "source": [
    "from pandas.plotting import scatter_matrix\n",
    "scatter_matrix(raw_train, alpha=0.2, figsize=(100, 100), diagonal='kde')"
   ]
  },
  {
   "cell_type": "code",
   "execution_count": 77,
   "metadata": {},
   "outputs": [],
   "source": [
    "from pandas.plotting import scatter_matrix\n",
    "scatter_matrix(raw_train1, alpha=0.2, figsize=(100, 100), diagonal='kde')"
   ]
  },
  {
   "cell_type": "code",
   "execution_count": 78,
   "metadata": {},
   "outputs": [],
   "source": [
    "from pandas.plotting import scatter_matrix\n",
    "scatter_matrix(raw_train1, alpha=0.2, figsize=(6, 6), diagonal='kde')"
   ]
  },
  {
   "cell_type": "code",
   "execution_count": 79,
   "metadata": {},
   "outputs": [],
   "source": [
    "from pandas.plotting import scatter_matrix\n",
    "scatter_matrix(raw_train1, alpha=0.2, figsize=(10, 10), diagonal='kde')"
   ]
  },
  {
   "cell_type": "code",
   "execution_count": 80,
   "metadata": {},
   "outputs": [],
   "source": [
    "from pandas.plotting import scatter_matrix\n",
    "scatter_matrix(raw_train1, alpha=0.2, figsize=(50, 30), diagonal='kde')"
   ]
  },
  {
   "cell_type": "code",
   "execution_count": 81,
   "metadata": {},
   "outputs": [],
   "source": [
    "from pandas.plotting import scatter_matrix\n",
    "scatter_matrix(raw_train1, alpha = 1.0, figsize=(50, 30), diagonal='kde')"
   ]
  },
  {
   "cell_type": "code",
   "execution_count": 82,
   "metadata": {},
   "outputs": [],
   "source": [
    "from pandas.plotting import scatter_matrix\n",
    "scatter_matrix(raw_train1, alpha = 1.0, figsize=(50, 50), diagonal='kde')"
   ]
  },
  {
   "cell_type": "code",
   "execution_count": 83,
   "metadata": {},
   "outputs": [],
   "source": [
    "from pandas.plotting import scatter_matrix\n",
    "scatter_matrix(raw_train1, alpha = 1.0, figsize=(30, 40), diagonal='kde')"
   ]
  },
  {
   "cell_type": "code",
   "execution_count": 84,
   "metadata": {},
   "outputs": [],
   "source": [
    "bp = ax.boxplot(raw_train)"
   ]
  },
  {
   "cell_type": "code",
   "execution_count": 85,
   "metadata": {},
   "outputs": [],
   "source": [
    "fig = plt.figure(1, figsize=(50, 50))\n",
    "ax = fig.add_subplot(111)\n",
    "bp = ax.boxplot(raw_train)"
   ]
  },
  {
   "cell_type": "code",
   "execution_count": 86,
   "metadata": {},
   "outputs": [],
   "source": [
    "fig = plt.figure(1, figsize=(9, 6))\n",
    "ax = fig.add_subplot(111)\n",
    "bp = ax.boxplot(raw_train)"
   ]
  },
  {
   "cell_type": "code",
   "execution_count": 87,
   "metadata": {},
   "outputs": [],
   "source": [
    "sns.boxplot(raw_train)"
   ]
  },
  {
   "cell_type": "code",
   "execution_count": 88,
   "metadata": {},
   "outputs": [],
   "source": [
    "train_df[cont_vars] = train_df[cont_vars].astype('float64')"
   ]
  },
  {
   "cell_type": "code",
   "execution_count": 89,
   "metadata": {},
   "outputs": [],
   "source": [
    "train_raw[cont_vars] = train_raw[cont_vars].astype('float64')"
   ]
  },
  {
   "cell_type": "code",
   "execution_count": 90,
   "metadata": {},
   "outputs": [],
   "source": [
    "raw_train[cont_vars] = raw_train[cont_vars].astype('float64')"
   ]
  },
  {
   "cell_type": "code",
   "execution_count": 91,
   "metadata": {},
   "outputs": [],
   "source": [
    "cont_vars = [cont_var for cont_var in train_df.columns if\n",
    "        (train_df[cont_var].dtype == 'float64') | (train_df[cont_var].dtype == 'int64')\n",
    "        and not cont_var in date_vars]\n",
    "raw_train[cont_vars] = raw_train[cont_vars].astype('float64')"
   ]
  },
  {
   "cell_type": "code",
   "execution_count": 92,
   "metadata": {},
   "outputs": [],
   "source": [
    "cont_vars = [cont_var for cont_var in train_df.columns if\n",
    "        (raw_train[cont_var].dtype == 'float64') | (raw_train[cont_var].dtype == 'int64')\n",
    "        and not cont_var in date_vars]\n",
    "raw_train[cont_vars] = raw_train[cont_vars].astype('float64')"
   ]
  },
  {
   "cell_type": "code",
   "execution_count": 93,
   "metadata": {},
   "outputs": [],
   "source": [
    "cont_vars = [cont_var for cont_var in raw_train.columns if\n",
    "        (raw_train[cont_var].dtype == 'float64') | (raw_train[cont_var].dtype == 'int64')\n",
    "        and not cont_var in date_vars]\n",
    "raw_train[cont_vars] = raw_train[cont_vars].astype('float64')"
   ]
  },
  {
   "cell_type": "code",
   "execution_count": 94,
   "metadata": {},
   "outputs": [],
   "source": [
    "date_vars = ['YearBuilt', 'YearRemodAdd', 'GarageYrBlt', 'MoSold', 'YrSold']\n",
    "cont_vars = [cont_var for cont_var in raw_train.columns if\n",
    "        (raw_train[cont_var].dtype == 'float64') | (raw_train[cont_var].dtype == 'int64')\n",
    "        and not cont_var in date_vars]\n",
    "raw_train[cont_vars] = raw_train[cont_vars].astype('float64')"
   ]
  },
  {
   "cell_type": "code",
   "execution_count": 95,
   "metadata": {},
   "outputs": [],
   "source": [
    "raw_train[cont_vars].columns"
   ]
  },
  {
   "cell_type": "code",
   "execution_count": 96,
   "metadata": {},
   "outputs": [],
   "source": [
    "raw_train[cont_vars].columns\n",
    "del['MSSubClass']"
   ]
  },
  {
   "cell_type": "code",
   "execution_count": 97,
   "metadata": {},
   "outputs": [],
   "source": [
    "raw_train[cont_vars].columns\n",
    "del(raw_train['MSSubClass'])"
   ]
  },
  {
   "cell_type": "code",
   "execution_count": 98,
   "metadata": {},
   "outputs": [],
   "source": [
    "sns.boxplot(raw_train[cont_vars])"
   ]
  },
  {
   "cell_type": "code",
   "execution_count": 99,
   "metadata": {},
   "outputs": [],
   "source": [
    "raw_train[cont_vars].columns"
   ]
  },
  {
   "cell_type": "code",
   "execution_count": 100,
   "metadata": {},
   "outputs": [],
   "source": [
    "raw_train[cont_vars].columns()"
   ]
  },
  {
   "cell_type": "code",
   "execution_count": 101,
   "metadata": {},
   "outputs": [],
   "source": [
    "raw_train[cont_vars].columns"
   ]
  },
  {
   "cell_type": "code",
   "execution_count": 102,
   "metadata": {},
   "outputs": [],
   "source": [
    "date_vars = ['YearBuilt', 'YearRemodAdd', 'GarageYrBlt', 'MoSold', 'YrSold']\n",
    "cont_vars = [cont_var for cont_var in raw_train.columns if\n",
    "        (raw_train[cont_var].dtype == 'float64') | (raw_train[cont_var].dtype == 'int64')\n",
    "        and not cont_var in date_vars]\n",
    "raw_train[cont_vars] = raw_train[cont_vars].astype('float64')"
   ]
  },
  {
   "cell_type": "code",
   "execution_count": 103,
   "metadata": {},
   "outputs": [],
   "source": [
    "raw_train[cont_vars].columns"
   ]
  },
  {
   "cell_type": "code",
   "execution_count": 104,
   "metadata": {},
   "outputs": [],
   "source": [
    "sns.boxplot(raw_train[cont_vars])"
   ]
  },
  {
   "cell_type": "code",
   "execution_count": 105,
   "metadata": {},
   "outputs": [],
   "source": [
    "np.log(raw_train[cont_vars])"
   ]
  },
  {
   "cell_type": "code",
   "execution_count": 106,
   "metadata": {},
   "outputs": [],
   "source": [
    "np.log(abs(raw_train[cont_vars])"
   ]
  },
  {
   "cell_type": "code",
   "execution_count": 107,
   "metadata": {},
   "outputs": [],
   "source": [
    "np.log(abs(raw_train[cont_vars]))"
   ]
  },
  {
   "cell_type": "code",
   "execution_count": 108,
   "metadata": {},
   "outputs": [],
   "source": [
    "a = np.log(raw_train[cont_vars])"
   ]
  },
  {
   "cell_type": "code",
   "execution_count": 109,
   "metadata": {},
   "outputs": [],
   "source": [
    "a = np.log(raw_train[cont_vars])\n",
    "a"
   ]
  },
  {
   "cell_type": "code",
   "execution_count": 110,
   "metadata": {},
   "outputs": [],
   "source": [
    "a = np.log(raw_train[cont_vars])"
   ]
  },
  {
   "cell_type": "code",
   "execution_count": 111,
   "metadata": {},
   "outputs": [],
   "source": [
    "boxplot = df.boxplot(column=['LotFrontage', 'LotArea', 'OverallQual', 'OverallCond', 'MasVnrArea',\n",
    "       'BsmtFinSF1', 'BsmtFinSF2', 'BsmtUnfSF', 'TotalBsmtSF', '1stFlrSF',\n",
    "       '2ndFlrSF', 'LowQualFinSF', 'GrLivArea', 'BsmtFullBath', 'BsmtHalfBath',\n",
    "       'FullBath', 'HalfBath', 'BedroomAbvGr', 'KitchenAbvGr', 'TotRmsAbvGrd',\n",
    "       'Fireplaces', 'GarageCars', 'GarageArea', 'WoodDeckSF', 'OpenPorchSF',\n",
    "       'EnclosedPorch', '3SsnPorch', 'ScreenPorch', 'PoolArea', 'MiscVal',\n",
    "       'SalePrice'])"
   ]
  },
  {
   "cell_type": "code",
   "execution_count": 112,
   "metadata": {},
   "outputs": [],
   "source": [
    "boxplot = raw_train.boxplot(column=['LotFrontage', 'LotArea', 'OverallQual', 'OverallCond', 'MasVnrArea',\n",
    "       'BsmtFinSF1', 'BsmtFinSF2', 'BsmtUnfSF', 'TotalBsmtSF', '1stFlrSF',\n",
    "       '2ndFlrSF', 'LowQualFinSF', 'GrLivArea', 'BsmtFullBath', 'BsmtHalfBath',\n",
    "       'FullBath', 'HalfBath', 'BedroomAbvGr', 'KitchenAbvGr', 'TotRmsAbvGrd',\n",
    "       'Fireplaces', 'GarageCars', 'GarageArea', 'WoodDeckSF', 'OpenPorchSF',\n",
    "       'EnclosedPorch', '3SsnPorch', 'ScreenPorch', 'PoolArea', 'MiscVal',\n",
    "       'SalePrice'])"
   ]
  },
  {
   "cell_type": "code",
   "execution_count": 113,
   "metadata": {},
   "outputs": [],
   "source": [
    "boxplot = raw_train[cont_vars].boxplot(column=['LotFrontage', 'LotArea', 'OverallQual', 'OverallCond', 'MasVnrArea',\n",
    "       'BsmtFinSF1', 'BsmtFinSF2', 'BsmtUnfSF', 'TotalBsmtSF', '1stFlrSF',\n",
    "       '2ndFlrSF', 'LowQualFinSF', 'GrLivArea', 'BsmtFullBath', 'BsmtHalfBath',\n",
    "       'FullBath', 'HalfBath', 'BedroomAbvGr', 'KitchenAbvGr', 'TotRmsAbvGrd',\n",
    "       'Fireplaces', 'GarageCars', 'GarageArea', 'WoodDeckSF', 'OpenPorchSF',\n",
    "       'EnclosedPorch', '3SsnPorch', 'ScreenPorch', 'PoolArea', 'MiscVal',\n",
    "       'SalePrice'])"
   ]
  },
  {
   "cell_type": "code",
   "execution_count": 114,
   "metadata": {},
   "outputs": [],
   "source": [
    "a = np.log(raw_train[cont_vars])\n",
    "a"
   ]
  },
  {
   "cell_type": "code",
   "execution_count": 115,
   "metadata": {},
   "outputs": [],
   "source": [
    "boxplot = raw_train[cont_vars].boxplot(column=['LotFrontage', 'LotArea', 'OverallQual', 'OverallCond', 'MasVnrArea',\n",
    "       'BsmtFinSF1', 'BsmtFinSF2', 'BsmtUnfSF', 'TotalBsmtSF', '1stFlrSF',\n",
    "       '2ndFlrSF', 'LowQualFinSF', 'GrLivArea', 'BsmtFullBath', 'BsmtHalfBath',\n",
    "       'FullBath', 'HalfBath', 'BedroomAbvGr', 'KitchenAbvGr', 'TotRmsAbvGrd',\n",
    "       'Fireplaces', 'GarageCars', 'GarageArea', 'WoodDeckSF', 'OpenPorchSF',\n",
    "       'EnclosedPorch', '3SsnPorch', 'ScreenPorch', 'PoolArea', 'MiscVal'])"
   ]
  },
  {
   "cell_type": "code",
   "execution_count": 116,
   "metadata": {},
   "outputs": [],
   "source": [
    "boxplot = a.boxplot(column=['LotFrontage', 'LotArea', 'OverallQual', 'OverallCond', 'MasVnrArea',\n",
    "       'BsmtFinSF1', 'BsmtFinSF2', 'BsmtUnfSF', 'TotalBsmtSF', '1stFlrSF',\n",
    "       '2ndFlrSF', 'LowQualFinSF', 'GrLivArea', 'BsmtFullBath', 'BsmtHalfBath',\n",
    "       'FullBath', 'HalfBath', 'BedroomAbvGr', 'KitchenAbvGr', 'TotRmsAbvGrd',\n",
    "       'Fireplaces', 'GarageCars', 'GarageArea', 'WoodDeckSF', 'OpenPorchSF',\n",
    "       'EnclosedPorch', '3SsnPorch', 'ScreenPorch', 'PoolArea', 'MiscVal'])"
   ]
  },
  {
   "cell_type": "code",
   "execution_count": 117,
   "metadata": {},
   "outputs": [],
   "source": [
    "\n",
    "a.boxplot(column=['LotFrontage', 'LotArea', 'OverallQual', 'OverallCond', 'MasVnrArea',\n",
    "       'BsmtFinSF1', 'BsmtFinSF2', 'BsmtUnfSF', 'TotalBsmtSF', '1stFlrSF',\n",
    "       '2ndFlrSF', 'LowQualFinSF', 'GrLivArea', 'BsmtFullBath', 'BsmtHalfBath',\n",
    "       'FullBath', 'HalfBath', 'BedroomAbvGr', 'KitchenAbvGr', 'TotRmsAbvGrd',\n",
    "       'Fireplaces', 'GarageCars', 'GarageArea', 'WoodDeckSF', 'OpenPorchSF',\n",
    "       'EnclosedPorch', '3SsnPorch', 'ScreenPorch', 'PoolArea', 'MiscVal'])"
   ]
  },
  {
   "cell_type": "code",
   "execution_count": 118,
   "metadata": {},
   "outputs": [],
   "source": [
    "f, ax = plt.subplots(figsize=(50, 30))\n",
    "corr = raw_train.corr()\n",
    "sns.set(font_scale=2.0)\n",
    "hm = sns.heatmap(round(corr,2), annot=True, ax=ax, cmap=\"coolwarm\",fmt='.2f',\n",
    "                 linewidths=.1)\n",
    "ax.set_title('Correlation HeatMap', fontsize=60)"
   ]
  },
  {
   "cell_type": "code",
   "execution_count": 119,
   "metadata": {},
   "outputs": [],
   "source": [
    "X = raw_train.drop('SalePrice', axis = 1)\n",
    "y = raw_train['SalePrice']"
   ]
  },
  {
   "cell_type": "code",
   "execution_count": 120,
   "metadata": {},
   "outputs": [],
   "source": [
    "clf = RandomForestClassifier(n_estimators=100, max_depth=2,\n",
    "                             random_state=0)\n",
    "clf.fit(X, y)"
   ]
  },
  {
   "cell_type": "code",
   "execution_count": 121,
   "metadata": {},
   "outputs": [],
   "source": [
    "from sklearn.ensemble import RandomForestClassifier"
   ]
  },
  {
   "cell_type": "code",
   "execution_count": 122,
   "metadata": {},
   "outputs": [],
   "source": [
    "clf = RandomForestClassifier(n_estimators=100, max_depth=2,\n",
    "                             random_state=0)\n",
    "clf.fit(X, y)"
   ]
  },
  {
   "cell_type": "code",
   "execution_count": 123,
   "metadata": {},
   "outputs": [],
   "source": [
    "raw_train1 = pd.read_pickle(\"../train.pkl\")"
   ]
  },
  {
   "cell_type": "code",
   "execution_count": 124,
   "metadata": {},
   "outputs": [],
   "source": [
    "raw_train1 = pd.read_pickle(\"../train.pkl\")\n",
    "raw_train1.head(5)"
   ]
  },
  {
   "cell_type": "code",
   "execution_count": 125,
   "metadata": {},
   "outputs": [],
   "source": [
    "raw_train1 = pd.read_pickle(\"../train.pkl\")\n",
    "raw_train1.shape"
   ]
  },
  {
   "cell_type": "code",
   "execution_count": 126,
   "metadata": {},
   "outputs": [],
   "source": [
    "from sklearn.ensemble import RandomForestRegressor"
   ]
  },
  {
   "cell_type": "code",
   "execution_count": 127,
   "metadata": {},
   "outputs": [],
   "source": [
    "X = raw_train1.drop('SalePrice', axis = 1)\n",
    "y = raw_train1['SalePrice']"
   ]
  },
  {
   "cell_type": "code",
   "execution_count": 128,
   "metadata": {},
   "outputs": [],
   "source": [
    "randomforest = RandomForestRegressor(n_estimators = 5000, max_features=20, oob_score=True)\n",
    "rf.fit(X, y)"
   ]
  },
  {
   "cell_type": "code",
   "execution_count": 129,
   "metadata": {},
   "outputs": [],
   "source": [
    "randomforest = RandomForestRegressor(n_estimators = 5000, max_features=20, oob_score=True)\n",
    "randomforest.fit(X, y)"
   ]
  },
  {
   "cell_type": "code",
   "execution_count": 130,
   "metadata": {},
   "outputs": [],
   "source": [
    "randomforest.score(X, y)"
   ]
  },
  {
   "cell_type": "code",
   "execution_count": 131,
   "metadata": {},
   "outputs": [],
   "source": [
    "importance = pd.DataFrame({'feature': X.columns, 'f_importance' : randomforest.feature_importances_})"
   ]
  },
  {
   "cell_type": "code",
   "execution_count": 132,
   "metadata": {},
   "outputs": [],
   "source": [
    "importance = pd.DataFrame({'feature': X.columns, 'f_importance' : randomforest.feature_importances_})\n",
    "x = importance.sort_values(by='f_importance', ascending=False).reset_index(drop=True)\n",
    "x[:10].plot.bar(x='feature', y='f_importance')"
   ]
  },
  {
   "cell_type": "code",
   "execution_count": 133,
   "metadata": {},
   "outputs": [],
   "source": [
    "randomforest = RandomForestRegressor(n_estimators = 5000, oob_score=True)\n",
    "randomforest.fit(X, y)"
   ]
  },
  {
   "cell_type": "code",
   "execution_count": 134,
   "metadata": {},
   "outputs": [],
   "source": [
    "importance = pd.DataFrame({'feature': X.columns, 'f_importance' : randomforest.feature_importances_})\n",
    "x = importance.sort_values(by='f_importance', ascending=False).reset_index(drop=True)\n",
    "x[:10].plot.bar(x='feature', y='f_importance', fontsize = 10)"
   ]
  },
  {
   "cell_type": "code",
   "execution_count": 135,
   "metadata": {},
   "outputs": [],
   "source": [
    "importance = pd.DataFrame({'feature': X.columns, 'f_importance' : randomforest.feature_importances_})\n",
    "x = importance.sort_values(by='f_importance', ascending=False).reset_index(drop=True)\n",
    "x[:10].plot.bar(x='feature', y='f_importance', fontsize = 10, figsize = (20,30)"
   ]
  },
  {
   "cell_type": "code",
   "execution_count": 136,
   "metadata": {},
   "outputs": [],
   "source": [
    "importance = pd.DataFrame({'feature': X.columns, 'f_importance' : randomforest.feature_importances_})\n",
    "x = importance.sort_values(by='f_importance', ascending=False).reset_index(drop=True)\n",
    "x[:10].plot.bar(x='feature', y='f_importance', fontsize = 10, figsize = (20,30))"
   ]
  },
  {
   "cell_type": "code",
   "execution_count": 137,
   "metadata": {},
   "outputs": [],
   "source": [
    "importance = pd.DataFrame({'feature': X.columns, 'f_importance' : randomforest.feature_importances_})\n",
    "x = importance.sort_values(by='f_importance', ascending=False).reset_index(drop=True)\n",
    "x[:10].plot.bar(x='feature', y='f_importance', fontsize = 20, figsize = (20,30))"
   ]
  },
  {
   "cell_type": "code",
   "execution_count": 138,
   "metadata": {},
   "outputs": [],
   "source": [
    "importance = pd.DataFrame({'feature': X.columns, 'f_importance' : randomforest.feature_importances_})\n",
    "x = importance.sort_values(by='f_importance', ascending=False).reset_index(drop=True)\n",
    "x[:15].plot.bar(x='feature', y='f_importance', fontsize = 20, figsize = (20,30))"
   ]
  },
  {
   "cell_type": "code",
   "execution_count": 139,
   "metadata": {},
   "outputs": [],
   "source": [
    "randomforest = RandomForestRegressor(n_estimators = 5000, max_features=20, oob_score=True)\n",
    "randomforest.fit(X, y)"
   ]
  },
  {
   "cell_type": "code",
   "execution_count": 140,
   "metadata": {},
   "outputs": [],
   "source": [
    "randomforest.score(X, y)"
   ]
  },
  {
   "cell_type": "code",
   "execution_count": 141,
   "metadata": {},
   "outputs": [],
   "source": [
    "importance = pd.DataFrame({'feature': X.columns, 'f_importance' : randomforest.feature_importances_})\n",
    "x = importance.sort_values(by='f_importance', ascending=False).reset_index(drop=True)\n",
    "x[:15].plot.bar(x='feature', y='f_importance', fontsize = 20, figsize = (20,30))"
   ]
  },
  {
   "cell_type": "code",
   "execution_count": 142,
   "metadata": {},
   "outputs": [],
   "source": [
    "importance = pd.DataFrame({'feature': X.columns, 'f_importance' : randomforest.feature_importances_})\n",
    "x = importance.sort_values(by='f_importance', ascending=False).reset_index(drop=True)\n",
    "x[:15].plot.bar(x='feature', y='f_importance', fontsize = 20, figsize = (10,20))"
   ]
  },
  {
   "cell_type": "code",
   "execution_count": 143,
   "metadata": {},
   "outputs": [],
   "source": [
    "importance = pd.DataFrame({'feature': X.columns, 'f_importance' : randomforest.feature_importances_})\n",
    "x = importance.sort_values(by='f_importance', ascending=False).reset_index(drop=True)\n",
    "x[:15].plot.bar(x='feature', y='f_importance', fontsize = 20, figsize = (20,10))"
   ]
  },
  {
   "cell_type": "code",
   "execution_count": 144,
   "metadata": {},
   "outputs": [],
   "source": [
    "importance = pd.DataFrame({'feature': X.columns, 'f_importance' : randomforest.feature_importances_})\n",
    "x = importance.sort_values(by='f_importance', ascending=False).reset_index(drop=True)\n",
    "#x[:15].plot.bar(x='feature', y='f_importance', fontsize = 20, figsize = (20,10))\n",
    "y = x[:15]\n",
    "sns.barplot(y['feature'], y['f_importance'])"
   ]
  },
  {
   "cell_type": "code",
   "execution_count": 145,
   "metadata": {},
   "outputs": [],
   "source": [
    "importance = pd.DataFrame({'feature': X.columns, 'f_importance' : randomforest.feature_importances_})\n",
    "x = importance.sort_values(by='f_importance', ascending=False).reset_index(drop=True)\n",
    "#x[:15].plot.bar(x='feature', y='f_importance', fontsize = 20, figsize = (20,10))\n",
    "y = x[:15]\n",
    "sns.barplot(y['feature'], y['f_importance'], fontsize = 20, figsize = (20,10))"
   ]
  },
  {
   "cell_type": "code",
   "execution_count": 146,
   "metadata": {},
   "outputs": [],
   "source": [
    "importance = pd.DataFrame({'feature': X.columns, 'f_importance' : randomforest.feature_importances_})\n",
    "x = importance.sort_values(by='f_importance', ascending=False).reset_index(drop=True)\n",
    "#x[:15].plot.bar(x='feature', y='f_importance', fontsize = 20, figsize = (20,10))\n",
    "y = x[:15]\n",
    "sns.set(font_scale=2.0, figsize = (50,30))\n",
    "sns.barplot(y['feature'], y['f_importance'])"
   ]
  },
  {
   "cell_type": "code",
   "execution_count": 147,
   "metadata": {},
   "outputs": [],
   "source": [
    "importance = pd.DataFrame({'feature': X.columns, 'f_importance' : randomforest.feature_importances_})\n",
    "x = importance.sort_values(by='f_importance', ascending=False).reset_index(drop=True)\n",
    "#x[:15].plot.bar(x='feature', y='f_importance', fontsize = 20, figsize = (20,10))\n",
    "y = x[:15]\n",
    "sns.set(font_scale=2.0)\n",
    "sns.barplot(y['feature'], y['f_importance'])"
   ]
  },
  {
   "cell_type": "code",
   "execution_count": 148,
   "metadata": {},
   "outputs": [],
   "source": [
    "importance = pd.DataFrame({'feature': X.columns, 'f_importance' : randomforest.feature_importances_})\n",
    "x = importance.sort_values(by='f_importance', ascending=False).reset_index(drop=True)\n",
    "#x[:15].plot.bar(x='feature', y='f_importance', fontsize = 20, figsize = (20,10))\n",
    "y = x[:15]\n",
    "sns.set(font_scale=1.0)\n",
    "sns.barplot(y['feature'], y['f_importance'])"
   ]
  },
  {
   "cell_type": "code",
   "execution_count": 149,
   "metadata": {},
   "outputs": [],
   "source": [
    "importance = pd.DataFrame({'feature': X.columns, 'f_importance' : randomforest.feature_importances_})\n",
    "x = importance.sort_values(by='f_importance', ascending=False).reset_index(drop=True)\n",
    "#x[:15].plot.bar(x='feature', y='f_importance', fontsize = 20, figsize = (20,10))\n",
    "y = x[:15]\n",
    "sns.set(font_scale=1.0)\n",
    "plt.figure(figsize=(10,20))\n",
    "sns.barplot(y['feature'], y['f_importance'])"
   ]
  },
  {
   "cell_type": "code",
   "execution_count": 150,
   "metadata": {},
   "outputs": [],
   "source": [
    "importance = pd.DataFrame({'feature': X.columns, 'f_importance' : randomforest.feature_importances_})\n",
    "x = importance.sort_values(by='f_importance', ascending=False).reset_index(drop=True)\n",
    "#x[:15].plot.bar(x='feature', y='f_importance', fontsize = 20, figsize = (20,10))\n",
    "y = x[:15]\n",
    "sns.set(font_scale=1.0)\n",
    "plt.figure(figsize=(20,10))\n",
    "sns.barplot(y['feature'], y['f_importance'])"
   ]
  },
  {
   "cell_type": "code",
   "execution_count": 151,
   "metadata": {},
   "outputs": [],
   "source": [
    "importance = pd.DataFrame({'feature': X.columns, 'f_importance' : randomforest.feature_importances_})\n",
    "x = importance.sort_values(by='f_importance', ascending=False).reset_index(drop=True)\n",
    "#x[:15].plot.bar(x='feature', y='f_importance', fontsize = 20, figsize = (20,10))\n",
    "y = x[:15]\n",
    "sns.set(font_scale=1.0)\n",
    "plt.figure(figsize=(20,10))\n",
    "sns.barplot(y['feature'], y['f_importance'], hls_palette(8, l=.3, s=.8))"
   ]
  },
  {
   "cell_type": "code",
   "execution_count": 152,
   "metadata": {},
   "outputs": [],
   "source": [
    "importance = pd.DataFrame({'feature': X.columns, 'f_importance' : randomforest.feature_importances_})\n",
    "x = importance.sort_values(by='f_importance', ascending=False).reset_index(drop=True)\n",
    "#x[:15].plot.bar(x='feature', y='f_importance', fontsize = 20, figsize = (20,10))\n",
    "y = x[:15]\n",
    "sns.set(font_scale=1.0)\n",
    "plt.figure(figsize=(20,10))\n",
    "sns.barplot(y['feature'], y['f_importance'])"
   ]
  },
  {
   "cell_type": "code",
   "execution_count": 153,
   "metadata": {},
   "outputs": [],
   "source": [
    "importance = pd.DataFrame({'feature': X.columns, 'f_importance' : randomforest.feature_importances_})\n",
    "x = importance.sort_values(by='f_importance', ascending=False).reset_index(drop=True)\n",
    "#x[:15].plot.bar(x='feature', y='f_importance', fontsize = 20, figsize = (20,10))\n",
    "y = x[:15]\n",
    "sns.set(font_scale=1.0)\n",
    "plt.figure(figsize=(20,10))\n",
    "sns.barplot(y['feature'], y['f_importance'], palette=cm.Blues(df['b']*10)"
   ]
  },
  {
   "cell_type": "code",
   "execution_count": 154,
   "metadata": {},
   "outputs": [],
   "source": [
    "importance = pd.DataFrame({'feature': X.columns, 'f_importance' : randomforest.feature_importances_})\n",
    "x = importance.sort_values(by='f_importance', ascending=False).reset_index(drop=True)\n",
    "#x[:15].plot.bar(x='feature', y='f_importance', fontsize = 20, figsize = (20,10))\n",
    "y = x[:15]\n",
    "sns.set(font_scale=1.0)\n",
    "plt.figure(figsize=(20,10))\n",
    "sns.barplot(y['feature'], y['f_importance'], palette=cm.Blues(df['b']*10))"
   ]
  },
  {
   "cell_type": "code",
   "execution_count": 155,
   "metadata": {},
   "outputs": [],
   "source": [
    "importance = pd.DataFrame({'feature': X.columns, 'f_importance' : randomforest.feature_importances_})\n",
    "x = importance.sort_values(by='f_importance', ascending=False).reset_index(drop=True)\n",
    "#x[:15].plot.bar(x='feature', y='f_importance', fontsize = 20, figsize = (20,10))\n",
    "y = x[:15]\n",
    "sns.set(font_scale=1.0)\n",
    "plt.figure(figsize=(20,10))\n",
    "sns.barplot(y['feature'], y['f_importance'])"
   ]
  },
  {
   "cell_type": "code",
   "execution_count": 156,
   "metadata": {},
   "outputs": [],
   "source": [
    "importance = pd.DataFrame({'feature': X.columns, 'f_importance' : randomforest.feature_importances_})\n",
    "x = importance.sort_values(by='f_importance', ascending=False).reset_index(drop=True)\n",
    "#x[:15].plot.bar(x='feature', y='f_importance', fontsize = 20, figsize = (20,10))\n",
    "y = x[:15]\n",
    "sns.set(font_scale=2.0)\n",
    "plt.figure(figsize=(20,10))\n",
    "sns.barplot(y['feature'], y['f_importance'])"
   ]
  },
  {
   "cell_type": "code",
   "execution_count": 157,
   "metadata": {},
   "outputs": [],
   "source": [
    "importance = pd.DataFrame({'feature': X.columns, 'f_importance' : randomforest.feature_importances_})\n",
    "x = importance.sort_values(by='f_importance', ascending=False).reset_index(drop=True)\n",
    "#x[:15].plot.bar(x='feature', y='f_importance', fontsize = 20, figsize = (20,10))\n",
    "y = x[:15]\n",
    "sns.set(font_scale=1.4)\n",
    "plt.figure(figsize=(20,10))\n",
    "sns.barplot(y['feature'], y['f_importance'])"
   ]
  },
  {
   "cell_type": "code",
   "execution_count": 158,
   "metadata": {},
   "outputs": [],
   "source": [
    "importance = pd.DataFrame({'feature': X.columns, 'f_importance' : randomforest.feature_importances_})\n",
    "x = importance.sort_values(by='f_importance', ascending=False).reset_index(drop=True)\n",
    "#x[:15].plot.bar(x='feature', y='f_importance', fontsize = 20, figsize = (20,10))\n",
    "y = x[:15]\n",
    "sns.set(font_scale=1.4)\n",
    "plt.figure(figsize=(30,10))\n",
    "sns.barplot(y['feature'], y['f_importance'])"
   ]
  },
  {
   "cell_type": "code",
   "execution_count": 159,
   "metadata": {},
   "outputs": [],
   "source": [
    "importance = pd.DataFrame({'feature': X.columns, 'f_importance' : randomforest.feature_importances_})\n",
    "x = importance.sort_values(by='f_importance', ascending=False).reset_index(drop=True)\n",
    "#x[:15].plot.bar(x='feature', y='f_importance', fontsize = 20, figsize = (20,10))\n",
    "y = x[:15]\n",
    "sns.set(font_scale=1.4)\n",
    "plt.figure(figsize=(30,15))\n",
    "sns.barplot(y['feature'], y['f_importance'])"
   ]
  },
  {
   "cell_type": "code",
   "execution_count": 160,
   "metadata": {},
   "outputs": [],
   "source": [
    "importance = pd.DataFrame({'feature': X.columns, 'f_importance' : randomforest.feature_importances_})\n",
    "x = importance.sort_values(by='f_importance', ascending=False).reset_index(drop=True)\n",
    "#x[:15].plot.bar(x='feature', y='f_importance', fontsize = 20, figsize = (20,10))\n",
    "y = x[:15]\n",
    "sns.set(font_scale=1.4)\n",
    "plt.figure(figsize=(30,15))\n",
    "sns.barplot(y['feature'], y['f_importance']).set_title(\"Important Variables\")"
   ]
  },
  {
   "cell_type": "code",
   "execution_count": 161,
   "metadata": {},
   "outputs": [],
   "source": [
    "importance = pd.DataFrame({'feature': X.columns, 'f_importance' : randomforest.feature_importances_})\n",
    "x = importance.sort_values(by='f_importance', ascending=False).reset_index(drop=True)\n",
    "#x[:15].plot.bar(x='feature', y='f_importance', fontsize = 20, figsize = (20,10))\n",
    "y = x[:15]\n",
    "sns.set(font_scale=1.4)\n",
    "plt.figure(figsize=(30,15))\n",
    "sns.barplot(y['feature'], y['f_importance']).set_title(\"Important Variables\", fontsize = 20)"
   ]
  },
  {
   "cell_type": "code",
   "execution_count": 162,
   "metadata": {},
   "outputs": [],
   "source": [
    "importance = pd.DataFrame({'feature': X.columns, 'f_importance' : randomforest.feature_importances_})\n",
    "x = importance.sort_values(by='f_importance', ascending=False).reset_index(drop=True)\n",
    "#x[:15].plot.bar(x='feature', y='f_importance', fontsize = 20, figsize = (20,10))\n",
    "y = x[:15]\n",
    "sns.set(font_scale=1.4)\n",
    "plt.figure(figsize=(30,15))\n",
    "sns.barplot(y['feature'], y['f_importance']).set_title(\"Important Variables\", fontsize = 50)"
   ]
  },
  {
   "cell_type": "code",
   "execution_count": 163,
   "metadata": {},
   "outputs": [],
   "source": [
    "importance = pd.DataFrame({'feature': X.columns, 'f_importance' : randomforest.feature_importances_})\n",
    "x = importance.sort_values(by='f_importance', ascending=False).reset_index(drop=True)\n",
    "#x[:15].plot.bar(x='feature', y='f_importance', fontsize = 20, figsize = (20,10))\n",
    "y = x[:15]\n",
    "sns.set(font_scale=1.4)\n",
    "plt.figure(figsize=(30,15))\n",
    "sns.barplot(y['feature'], y['f_importance']).set_title(\"Important Variables\", fontsize = 40)"
   ]
  },
  {
   "cell_type": "code",
   "execution_count": 164,
   "metadata": {},
   "outputs": [],
   "source": [
    "#Sale Price and each subclass\n",
    "f, ax = plt.subplots(figsize=(35, 20))\n",
    "sns.set(font_scale=2.0)\n",
    "cmap = sns.cubehelix_palette(as_cmap=True, dark=0, light=1, reverse=True)\n",
    "sns.kdeplot(raw_train.MSSubClass, raw_train.SalePrice, cmap=cmap, n_levels=100, shade=True);"
   ]
  },
  {
   "cell_type": "code",
   "execution_count": 165,
   "metadata": {},
   "outputs": [],
   "source": [
    "#Sale Price and each subclass\n",
    "f, ax = plt.subplots(figsize=(30, 10))\n",
    "sns.set(font_scale=2.0)\n",
    "cmap = sns.cubehelix_palette(as_cmap=True, dark=0, light=1, reverse=True)\n",
    "sns.kdeplot(raw_train.MSSubClass, raw_train.SalePrice, cmap=cmap, n_levels=100, shade=True);"
   ]
  },
  {
   "cell_type": "code",
   "execution_count": 166,
   "metadata": {},
   "outputs": [],
   "source": [
    "#Sale Price and each subclass\n",
    "f, ax = plt.subplots(figsize=(50, 10))\n",
    "sns.set(font_scale=2.0)\n",
    "cmap = sns.cubehelix_palette(as_cmap=True, dark=0, light=1, reverse=True)\n",
    "sns.kdeplot(raw_train.MSSubClass, raw_train.SalePrice, cmap=cmap, n_levels=100, shade=True);"
   ]
  },
  {
   "cell_type": "code",
   "execution_count": 167,
   "metadata": {},
   "outputs": [],
   "source": [
    "%matplotlib inline"
   ]
  },
  {
   "cell_type": "code",
   "execution_count": 168,
   "metadata": {},
   "outputs": [],
   "source": [
    "import pandas as pd\n",
    "import numpy as np\n",
    "import seaborn as sns\n",
    "from matplotlib import pyplot as plt\n",
    "plt.style.use('ggplot')"
   ]
  },
  {
   "cell_type": "code",
   "execution_count": 169,
   "metadata": {},
   "outputs": [],
   "source": [
    "raw_train = pd.read_csv(\"../data/train.csv\")\n",
    "del(raw_train['Id'])"
   ]
  },
  {
   "cell_type": "code",
   "execution_count": 170,
   "metadata": {},
   "outputs": [],
   "source": [
    "f, ax = plt.subplots(figsize=(50, 30))\n",
    "corr = raw_train.corr()\n",
    "sns.set(font_scale=2.0)\n",
    "hm = sns.heatmap(round(corr,2), annot=True, ax=ax, cmap=\"coolwarm\",fmt='.2f',\n",
    "                 linewidths=.1)\n",
    "ax.set_title('Correlation HeatMap', fontsize=60)"
   ]
  },
  {
   "cell_type": "code",
   "execution_count": 171,
   "metadata": {},
   "outputs": [],
   "source": [
    "f, ax = plt.subplots(figsize=(60, 30))\n",
    "corr = raw_train.corr()\n",
    "sns.set(font_scale=2.0)\n",
    "hm = sns.heatmap(round(corr,2), annot=True, ax=ax, cmap=\"coolwarm\",fmt='.2f',\n",
    "                 linewidths=.1)\n",
    "ax.set_title('Correlation HeatMap', fontsize=60)"
   ]
  },
  {
   "cell_type": "code",
   "execution_count": 172,
   "metadata": {},
   "outputs": [],
   "source": [
    "f, ax = plt.subplots(figsize=(60, 30))\n",
    "corr = raw_train.corr()\n",
    "sns.set(font_scale=2.5)\n",
    "hm = sns.heatmap(round(corr,2), annot=True, ax=ax, cmap=\"coolwarm\",fmt='.2f',\n",
    "                 linewidths=.1)\n",
    "ax.set_title('Correlation HeatMap', fontsize=60)"
   ]
  },
  {
   "cell_type": "code",
   "execution_count": 173,
   "metadata": {},
   "outputs": [],
   "source": [
    "f, ax = plt.subplots(figsize=(60, 50))\n",
    "corr = raw_train.corr()\n",
    "sns.set(font_scale=2.5)\n",
    "hm = sns.heatmap(round(corr,2), annot=True, ax=ax, cmap=\"coolwarm\",fmt='.2f',\n",
    "                 linewidths=.1)\n",
    "ax.set_title('Correlation HeatMap', fontsize=60)"
   ]
  },
  {
   "cell_type": "code",
   "execution_count": 174,
   "metadata": {},
   "outputs": [],
   "source": [
    "#Sale Price and each subclass\n",
    "f, ax = plt.subplots(figsize=(50, 10))\n",
    "sns.set(font_scale=2.0)\n",
    "cmap = sns.cubehelix_palette(as_cmap=True, dark=0, light=1, reverse=True)\n",
    "sns.kdeplot(raw_train.MSSubClass, raw_train.SalePrice, cmap=cmap, n_levels=100, shade=True);"
   ]
  },
  {
   "cell_type": "code",
   "execution_count": 175,
   "metadata": {},
   "outputs": [],
   "source": [
    "#Sale Price and each subclass\n",
    "f, ax = plt.subplots(figsize=(50, 30))\n",
    "sns.set(font_scale=2.0)\n",
    "cmap = sns.cubehelix_palette(as_cmap=True, dark=0, light=1, reverse=True)\n",
    "sns.kdeplot(raw_train.MSSubClass, raw_train.SalePrice, cmap=cmap, n_levels=100, shade=True);"
   ]
  },
  {
   "cell_type": "code",
   "execution_count": 176,
   "metadata": {},
   "outputs": [],
   "source": [
    "#Sale Price and each subclass\n",
    "f, ax = plt.subplots(figsize=(40, 30))\n",
    "sns.set(font_scale=2.0)\n",
    "cmap = sns.cubehelix_palette(as_cmap=True, dark=0, light=1, reverse=True)\n",
    "sns.kdeplot(raw_train.MSSubClass, raw_train.SalePrice, cmap=cmap, n_levels=100, shade=True);"
   ]
  },
  {
   "cell_type": "code",
   "execution_count": 177,
   "metadata": {},
   "outputs": [],
   "source": [
    "#Sale Price and each subclass\n",
    "f, ax = plt.subplots(figsize=(40, 30))\n",
    "sns.set(font_scale=4.5)\n",
    "cmap = sns.cubehelix_palette(as_cmap=True, dark=0, light=1, reverse=True)\n",
    "sns.kdeplot(raw_train.MSSubClass, raw_train.SalePrice, cmap=cmap, n_levels=100, shade=True);"
   ]
  },
  {
   "cell_type": "code",
   "execution_count": 178,
   "metadata": {},
   "outputs": [],
   "source": [
    "raw_train.hist(figsize = (50,100))"
   ]
  },
  {
   "cell_type": "code",
   "execution_count": 179,
   "metadata": {},
   "outputs": [],
   "source": [
    " msno.heatmap(raw_train) #Appeared variables are only columns with missing data. \n",
    "    #Variables that are full are removed from the heatmap"
   ]
  },
  {
   "cell_type": "code",
   "execution_count": 180,
   "metadata": {},
   "outputs": [],
   "source": [
    "import missingno as msno\n",
    "msno.matrix(raw_train1, sort='decending', color = (0.50, 0.12, 0.32), sparkline = False)\n",
    "#Sparkline show the sidebar line which I don't know how to interpret; therefore, I set it to False."
   ]
  },
  {
   "cell_type": "code",
   "execution_count": 181,
   "metadata": {},
   "outputs": [],
   "source": [
    "importance = pd.DataFrame({'feature': X.columns, 'f_importance' : randomforest.feature_importances_})\n",
    "x = importance.sort_values(by='f_importance', ascending=False).reset_index(drop=True)\n",
    "#x[:15].plot.bar(x='feature', y='f_importance', fontsize = 20, figsize = (20,10))\n",
    "y = x[:15]\n",
    "sns.set(font_scale=1.4)\n",
    "plt.figure(figsize=(30,15))\n",
    "sns.barplot(y['feature'], y['f_importance']).set_title(\"Important Variables\", fontsize = 40)"
   ]
  },
  {
   "cell_type": "code",
   "execution_count": 182,
   "metadata": {},
   "outputs": [],
   "source": [
    "%matplotlib inline"
   ]
  },
  {
   "cell_type": "code",
   "execution_count": 183,
   "metadata": {},
   "outputs": [],
   "source": [
    "import pandas as pd\n",
    "import numpy as np\n",
    "import seaborn as sns\n",
    "from matplotlib import pyplot as plt\n",
    "plt.style.use('ggplot')"
   ]
  },
  {
   "cell_type": "code",
   "execution_count": 184,
   "metadata": {},
   "outputs": [],
   "source": [
    "raw_train = pd.read_csv(\"../data/train.csv\")\n",
    "del(raw_train['Id'])"
   ]
  },
  {
   "cell_type": "code",
   "execution_count": 185,
   "metadata": {},
   "outputs": [],
   "source": [
    "f, ax = plt.subplots(figsize=(60, 50))\n",
    "corr = raw_train.corr()\n",
    "sns.set(font_scale=2.5)\n",
    "hm = sns.heatmap(round(corr,2), annot=True, ax=ax, cmap=\"coolwarm\",fmt='.2f',\n",
    "                 linewidths=.1)\n",
    "ax.set_title('Correlation HeatMap', fontsize=60)"
   ]
  },
  {
   "cell_type": "code",
   "execution_count": 186,
   "metadata": {},
   "outputs": [],
   "source": [
    "f, ax = plt.subplots(figsize=(60, 30))\n",
    "corr = raw_train.corr()\n",
    "sns.set(font_scale=2.5)\n",
    "hm = sns.heatmap(round(corr,2), annot=True, ax=ax, cmap=\"coolwarm\",fmt='.2f',\n",
    "                 linewidths=.1)\n",
    "ax.set_title('Correlation HeatMap', fontsize=60)"
   ]
  },
  {
   "cell_type": "code",
   "execution_count": 187,
   "metadata": {},
   "outputs": [],
   "source": [
    "f, ax = plt.subplots(figsize=(60, 30))\n",
    "corr = raw_train.corr()\n",
    "sns.set(font_scale=3.0)\n",
    "hm = sns.heatmap(round(corr,2), annot=True, ax=ax, cmap=\"coolwarm\",fmt='.2f',\n",
    "                 linewidths=.1)\n",
    "ax.set_title('Correlation HeatMap', fontsize=60)"
   ]
  },
  {
   "cell_type": "code",
   "execution_count": 188,
   "metadata": {},
   "outputs": [],
   "source": [
    "f, ax = plt.subplots(figsize=(60, 30))\n",
    "corr = raw_train.corr()\n",
    "sns.set(font_scale=2.0)\n",
    "hm = sns.heatmap(round(corr,2), annot=True, ax=ax, cmap=\"coolwarm\",fmt='.2f',\n",
    "                 linewidths=.1)\n",
    "ax.set_title('Correlation HeatMap', fontsize=60)"
   ]
  },
  {
   "cell_type": "code",
   "execution_count": 189,
   "metadata": {},
   "outputs": [],
   "source": [
    "f, ax = plt.subplots(figsize=(50, 30))\n",
    "corr = raw_train.corr()\n",
    "sns.set(font_scale=2.0)\n",
    "hm = sns.heatmap(round(corr,2), annot=True, ax=ax, cmap=\"coolwarm\",fmt='.2f',\n",
    "                 linewidths=.1)\n",
    "ax.set_title('Correlation HeatMap', fontsize=60)"
   ]
  },
  {
   "cell_type": "code",
   "execution_count": 190,
   "metadata": {},
   "outputs": [],
   "source": [
    "f, ax = plt.subplots(figsize=(50, 25))\n",
    "corr = raw_train.corr()\n",
    "sns.set(font_scale=2.0)\n",
    "hm = sns.heatmap(round(corr,2), annot=True, ax=ax, cmap=\"coolwarm\",fmt='.2f',\n",
    "                 linewidths=.1)\n",
    "ax.set_title('Correlation HeatMap', fontsize=60)"
   ]
  },
  {
   "cell_type": "code",
   "execution_count": 191,
   "metadata": {},
   "outputs": [],
   "source": [
    "#Sale Price and each subclass\n",
    "f, ax = plt.subplots(figsize=(50, 25))\n",
    "sns.set(font_scale=4.5)\n",
    "cmap = sns.cubehelix_palette(as_cmap=True, dark=0, light=1, reverse=True)\n",
    "sns.kdeplot(raw_train.MSSubClass, raw_train.SalePrice, cmap=cmap, n_levels=100, shade=True);"
   ]
  },
  {
   "cell_type": "code",
   "execution_count": 192,
   "metadata": {},
   "outputs": [],
   "source": [
    "#Sale Price and each subclass\n",
    "f, ax = plt.subplots(figsize=(50, 25))\n",
    "sns.set(font_scale=2.0)\n",
    "cmap = sns.cubehelix_palette(as_cmap=True, dark=0, light=1, reverse=True)\n",
    "sns.kdeplot(raw_train.MSSubClass, raw_train.SalePrice, cmap=cmap, n_levels=100, shade=True);"
   ]
  },
  {
   "cell_type": "code",
   "execution_count": 193,
   "metadata": {},
   "outputs": [],
   "source": [
    "raw_train.hist(figsize = (50,100))"
   ]
  },
  {
   "cell_type": "code",
   "execution_count": 194,
   "metadata": {},
   "outputs": [],
   "source": [
    " msno.heatmap(raw_train) #Appeared variables are only columns with missing data. \n",
    "    #Variables that are full are removed from the heatmap"
   ]
  },
  {
   "cell_type": "code",
   "execution_count": 195,
   "metadata": {},
   "outputs": [],
   "source": [
    "import missingno as msno\n",
    "msno.matrix(raw_train1, sort='decending', color = (0.50, 0.12, 0.32), sparkline = False)\n",
    "#Sparkline show the sidebar line which I don't know how to interpret; therefore, I set it to False."
   ]
  },
  {
   "cell_type": "code",
   "execution_count": 196,
   "metadata": {},
   "outputs": [],
   "source": [
    "import missingno as msno\n",
    "msno.matrix(raw_train1, sort='decending', color = (0.50, 0.12, 0.32))\n",
    "#Sparkline show the sidebar line which I don't know how to interpret; therefore, I set it to False."
   ]
  },
  {
   "cell_type": "code",
   "execution_count": 197,
   "metadata": {},
   "outputs": [],
   "source": [
    "import missingno as msno\n",
    "msno.matrix(raw_train, sort='decending', color = (0.50, 0.12, 0.32))\n",
    "#Sparkline show the sidebar line which I don't know how to interpret; therefore, I set it to False."
   ]
  },
  {
   "cell_type": "code",
   "execution_count": 198,
   "metadata": {},
   "outputs": [],
   "source": [
    "import missingno as msno\n",
    "msno.matrix(raw_train, sort='decending', color = (0.50, 0.12, 0.32), sparkline = False)\n",
    "#Sparkline show the sidebar line which I don't know how to interpret; therefore, I set it to False."
   ]
  },
  {
   "cell_type": "code",
   "execution_count": 199,
   "metadata": {},
   "outputs": [],
   "source": [
    "missing_value_col = raw_train.columns[raw_train.isnull().any()]"
   ]
  },
  {
   "cell_type": "code",
   "execution_count": 200,
   "metadata": {},
   "outputs": [],
   "source": [
    "import missingno as msno\n",
    "msno.matrix(raw_train, sort='ascending', color = (0.50, 0.12, 0.32), sparkline = False)\n",
    "#Sparkline show the sidebar line which I don't know how to interpret; therefore, I set it to False."
   ]
  },
  {
   "cell_type": "code",
   "execution_count": 201,
   "metadata": {},
   "outputs": [],
   "source": [
    "import missingno as msno\n",
    "msno.matrix(missing_value_col, sort='ascending', color = (0.50, 0.12, 0.32), sparkline = False)\n",
    "#Sparkline show the sidebar line which I don't know how to interpret; therefore, I set it to False."
   ]
  },
  {
   "cell_type": "code",
   "execution_count": 202,
   "metadata": {},
   "outputs": [],
   "source": [
    "import missingno as msno\n",
    "msno.matrix(raw_train, sort='ascending', color = (0.50, 0.12, 0.32), sparkline = False)\n",
    "#Sparkline show the sidebar line which I don't know how to interpret; therefore, I set it to False."
   ]
  },
  {
   "cell_type": "code",
   "execution_count": 203,
   "metadata": {},
   "outputs": [],
   "source": [
    "msno.bar(raw_train)"
   ]
  },
  {
   "cell_type": "code",
   "execution_count": 204,
   "metadata": {},
   "outputs": [],
   "source": [
    "missing_col = raw_train.columns[raw_train.isnull().any()]"
   ]
  },
  {
   "cell_type": "code",
   "execution_count": 205,
   "metadata": {},
   "outputs": [],
   "source": [
    "import missingno as msno\n",
    "msno.matrix(missing_col, sort='ascending', color = (0.50, 0.12, 0.32), sparkline = False)\n",
    "#Sparkline show the sidebar line which I don't know how to interpret; therefore, I set it to False."
   ]
  },
  {
   "cell_type": "code",
   "execution_count": 206,
   "metadata": {},
   "outputs": [],
   "source": [
    "import missingno as msno\n",
    "msno.matrix(raw_train, sort='ascending', color = (0.50, 0.12, 0.32), sparkline = False)\n",
    "#Sparkline show the sidebar line which I don't know how to interpret; therefore, I set it to False."
   ]
  },
  {
   "cell_type": "code",
   "execution_count": 207,
   "metadata": {},
   "outputs": [],
   "source": [
    "import missingno as msno\n",
    "msno.matrix(raw_train, sort='ascending', color = (0.50, 0.12, 0.32), sparkline = False)\n",
    "#Sparkline show the sidebar line which I don't know how to interpret; therefore, I set it to False."
   ]
  },
  {
   "cell_type": "code",
   "execution_count": 208,
   "metadata": {},
   "outputs": [],
   "source": [
    "raw_train.columns[raw_train.isnull().any()]"
   ]
  },
  {
   "cell_type": "code",
   "execution_count": 209,
   "metadata": {},
   "outputs": [],
   "source": [
    "msno.bar(raw_train, log = True)"
   ]
  },
  {
   "cell_type": "code",
   "execution_count": 210,
   "metadata": {},
   "outputs": [],
   "source": [
    "import missingno as msno\n",
    "msno.matrix(raw_train, sort='ascending')\n",
    "            #color = (0.50, 0.12, 0.32), sparkline = False)\n",
    "#Sparkline show the sidebar line which I don't know how to interpret; therefore, I set it to False."
   ]
  },
  {
   "cell_type": "code",
   "execution_count": 211,
   "metadata": {},
   "outputs": [],
   "source": [
    "pd.dataframe(raw_train.columns[raw_train.isnull().any()])"
   ]
  },
  {
   "cell_type": "code",
   "execution_count": 212,
   "metadata": {},
   "outputs": [],
   "source": [
    "pd.DataFrame(raw_train.columns[raw_train.isnull().any()])"
   ]
  },
  {
   "cell_type": "code",
   "execution_count": 213,
   "metadata": {},
   "outputs": [],
   "source": [
    "raw_train.columns[raw_train.isnull().any()]"
   ]
  },
  {
   "cell_type": "code",
   "execution_count": 214,
   "metadata": {},
   "outputs": [],
   "source": [
    "data = raw_train[['LotFrontage', 'Alley', 'MasVnrType', 'MasVnrArea', 'BsmtQual',\n",
    "       'BsmtCond', 'BsmtExposure', 'BsmtFinType1', 'BsmtFinType2',\n",
    "       'Electrical', 'FireplaceQu', 'GarageType', 'GarageYrBlt',\n",
    "       'GarageFinish', 'GarageQual', 'GarageCond', 'PoolQC', 'Fence',\n",
    "       'MiscFeature']]"
   ]
  },
  {
   "cell_type": "code",
   "execution_count": 215,
   "metadata": {},
   "outputs": [],
   "source": [
    "data = raw_train[['LotFrontage', 'Alley', 'MasVnrType', 'MasVnrArea', 'BsmtQual',\n",
    "       'BsmtCond', 'BsmtExposure', 'BsmtFinType1', 'BsmtFinType2',\n",
    "       'Electrical', 'FireplaceQu', 'GarageType', 'GarageYrBlt',\n",
    "       'GarageFinish', 'GarageQual', 'GarageCond', 'PoolQC', 'Fence',\n",
    "       'MiscFeature']]\n",
    "data"
   ]
  },
  {
   "cell_type": "code",
   "execution_count": 216,
   "metadata": {},
   "outputs": [],
   "source": [
    "import missingno as msno\n",
    "msno.matrix(data, sort='ascending')\n",
    "            #color = (0.50, 0.12, 0.32), sparkline = False)\n",
    "#Sparkline show the sidebar line which I don't know how to interpret; therefore, I set it to False."
   ]
  },
  {
   "cell_type": "code",
   "execution_count": 217,
   "metadata": {},
   "outputs": [],
   "source": [
    "import missingno as msno\n",
    "msno.matrix(data, sort='ascending',color = (0.50, 0.12, 0.32), sparkline = False)\n",
    "#Sparkline show the sidebar line which I don't know how to interpret; therefore, I set it to False."
   ]
  },
  {
   "cell_type": "code",
   "execution_count": 218,
   "metadata": {},
   "outputs": [],
   "source": [
    "missingdata = raw_train[['LotFrontage', 'Alley', 'MasVnrType', 'MasVnrArea', 'BsmtQual',\n",
    "       'BsmtCond', 'BsmtExposure', 'BsmtFinType1', 'BsmtFinType2',\n",
    "       'Electrical', 'FireplaceQu', 'GarageType', 'GarageYrBlt',\n",
    "       'GarageFinish', 'GarageQual', 'GarageCond', 'PoolQC', 'Fence',\n",
    "       'MiscFeature']]"
   ]
  },
  {
   "cell_type": "code",
   "execution_count": 219,
   "metadata": {},
   "outputs": [],
   "source": [
    " msno.heatmap(missingdata) #Appeared variables are only columns with missing data. \n",
    "    #Variables that are full are removed from the heatmap"
   ]
  },
  {
   "cell_type": "code",
   "execution_count": 220,
   "metadata": {},
   "outputs": [],
   "source": [
    "import missingno as msno\n",
    "msno.matrix(missingdata, sort='ascending',color = (0.50, 0.12, 0.32), sparkline = False)\n",
    "#Sparkline show the sidebar line which I don't know how to interpret; therefore, I set it to False."
   ]
  },
  {
   "cell_type": "code",
   "execution_count": 221,
   "metadata": {},
   "outputs": [],
   "source": [
    "import missingno as msno\n",
    "msno.matrix(missingdata, sort='decending',color = (0.50, 0.12, 0.32), sparkline = False)\n",
    "#Sparkline show the sidebar line which I don't know how to interpret; therefore, I set it to False."
   ]
  },
  {
   "cell_type": "code",
   "execution_count": 222,
   "metadata": {},
   "outputs": [],
   "source": [
    "msno.bar(missingdata, log = True)"
   ]
  },
  {
   "cell_type": "code",
   "execution_count": 223,
   "metadata": {},
   "outputs": [],
   "source": [
    "msno.bar(missingdata)"
   ]
  },
  {
   "cell_type": "code",
   "execution_count": 224,
   "metadata": {},
   "outputs": [],
   "source": [
    "msno.bar(missingdata,color = (0.40, 0.30, 0.70))"
   ]
  },
  {
   "cell_type": "code",
   "execution_count": 225,
   "metadata": {},
   "outputs": [],
   "source": [
    "importance = pd.DataFrame({'feature': X.columns, 'f_importance' : randomforest.feature_importances_})\n",
    "x = importance.sort_values(by='f_importance', ascending=False).reset_index(drop=True)\n",
    "#x[:15].plot.bar(x='feature', y='f_importance', fontsize = 20, figsize = (20,10))\n",
    "y = x[:15]\n",
    "sns.set(font_scale=1.7)\n",
    "plt.figure(figsize=(30,15))\n",
    "sns.barplot(y['feature'], y['f_importance']).set_title(\"Important Variables\", fontsize = 40)"
   ]
  },
  {
   "cell_type": "code",
   "execution_count": 226,
   "metadata": {},
   "outputs": [],
   "source": [
    "importance = pd.DataFrame({'feature': X.columns, 'f_importance' : randomforest.feature_importances_})\n",
    "x = importance.sort_values(by='f_importance', ascending=False).reset_index(drop=True)\n",
    "#x[:15].plot.bar(x='feature', y='f_importance', fontsize = 20, figsize = (20,10))\n",
    "y = x[:15]\n",
    "sns.set(font_scale=1.7)\n",
    "plt.figure(figsize=(40,20))\n",
    "sns.barplot(y['feature'], y['f_importance']).set_title(\"Important Variables\", fontsize = 40)"
   ]
  },
  {
   "cell_type": "code",
   "execution_count": 227,
   "metadata": {},
   "outputs": [],
   "source": [
    "importance = pd.DataFrame({'feature': X.columns, 'f_importance' : randomforest.feature_importances_})\n",
    "x = importance.sort_values(by='f_importance', ascending=False).reset_index(drop=True)\n",
    "#x[:15].plot.bar(x='feature', y='f_importance', fontsize = 20, figsize = (20,10))\n",
    "y = x[:15]\n",
    "sns.set(font_scale=2.0)\n",
    "plt.figure(figsize=(40,20))\n",
    "sns.barplot(y['feature'], y['f_importance']).set_title(\"Important Variables\", fontsize = 40)"
   ]
  },
  {
   "cell_type": "code",
   "execution_count": 228,
   "metadata": {},
   "outputs": [],
   "source": [
    "importance = pd.DataFrame({'feature': X.columns, 'f_importance' : randomforest.feature_importances_})\n",
    "x = importance.sort_values(by='f_importance', ascending=False).reset_index(drop=True)\n",
    "#x[:15].plot.bar(x='feature', y='f_importance', fontsize = 20, figsize = (20,10))\n",
    "y = x[:10]\n",
    "sns.set(font_scale=2.0)\n",
    "plt.figure(figsize=(40,20))\n",
    "sns.barplot(y['feature'], y['f_importance']).set_title(\"Important Variables\", fontsize = 40)"
   ]
  },
  {
   "cell_type": "code",
   "execution_count": 229,
   "metadata": {},
   "outputs": [],
   "source": [
    "sns.boxplot(x=raw_train1['LotFrontage'])"
   ]
  },
  {
   "cell_type": "code",
   "execution_count": 230,
   "metadata": {},
   "outputs": [],
   "source": [
    "sns.boxplot(x=raw_train['LotFrontage'])"
   ]
  },
  {
   "cell_type": "code",
   "execution_count": 231,
   "metadata": {},
   "outputs": [],
   "source": [
    "sns.boxplot(x=raw_train['MSSubClass'], y = raw_train['LotFrontage'])"
   ]
  },
  {
   "cell_type": "code",
   "execution_count": 232,
   "metadata": {},
   "outputs": [],
   "source": [
    "sns.set(font_scale=2.0)\n",
    "plt.figure(figsize=(40,20))\n",
    "sns.boxplot(x=raw_train['MSSubClass'], y = raw_train['LotFrontage'])"
   ]
  },
  {
   "cell_type": "code",
   "execution_count": 233,
   "metadata": {},
   "outputs": [],
   "source": [
    "f, ax = plt.subplots(figsize=(50, 25))\n",
    "corr = raw_train.corr()\n",
    "sns.set(font_scale=2.0)\n",
    "hm = sns.heatmap(round(corr,2), annot=True, ax=ax, cmap=\"coolwarm\",fmt='.2f',\n",
    "                 linewidths=.1)\n",
    "ax.set_title('Correlation HeatMap', fontsize=50)"
   ]
  },
  {
   "cell_type": "code",
   "execution_count": 234,
   "metadata": {},
   "outputs": [],
   "source": [
    "f, ax = plt.subplots(figsize=(50, 30))\n",
    "corr = raw_train.corr()\n",
    "sns.set(font_scale=2.0)\n",
    "hm = sns.heatmap(round(corr,2), annot=True, ax=ax, cmap=\"coolwarm\",fmt='.2f',\n",
    "                 linewidths=.1)\n",
    "ax.set_title('Correlation HeatMap', fontsize=50)"
   ]
  },
  {
   "cell_type": "code",
   "execution_count": 235,
   "metadata": {},
   "outputs": [],
   "source": [
    "%notebook \"Desktop/Data%20Science%20Bootcamp/Project3/kaggle-housing-prices/Bird/Visualization.ipynb\" "
   ]
  },
  {
   "cell_type": "code",
   "execution_count": 236,
   "metadata": {},
   "outputs": [],
   "source": [
    "%notebook \"Desktop/Data Science Bootcamp/Project3/kaggle-housing-prices/Bird/Visualization.ipynb\" "
   ]
  },
  {
   "cell_type": "code",
   "execution_count": 237,
   "metadata": {},
   "outputs": [],
   "source": [
    "pwd"
   ]
  },
  {
   "cell_type": "code",
   "execution_count": 238,
   "metadata": {},
   "outputs": [],
   "source": [
    "%notebook \"C:\\\\Users\\\\Bird_\\\\Desktop\\\\Data Science Bootcamp\\\\Project3\\\\kaggle-housing-prices\\\\Bird\\\\Visualization.ipynb\" "
   ]
  },
  {
   "cell_type": "code",
   "execution_count": 239,
   "metadata": {},
   "outputs": [],
   "source": [
    "#Sale Price and each subclass\n",
    "f, ax = plt.subplots(figsize=(50, 25))\n",
    "sns.set(font_scale=2.0)\n",
    "cmap = sns.cubehelix_palette(as_cmap=True, dark=0, light=1, reverse=True)\n",
    "sns.kdeplot(raw_train.MSSubClass, raw_train.LotFrontage, cmap=cmap, n_levels=100, shade=True);"
   ]
  },
  {
   "cell_type": "code",
   "execution_count": 240,
   "metadata": {},
   "outputs": [],
   "source": [
    "#Sale Price and each subclass\n",
    "f, ax = plt.subplots(figsize=(50, 25))\n",
    "sns.set(font_scale=2.0)\n",
    "cmap = sns.cubehelix_palette(as_cmap=True, dark=0, light=1, reverse=True)\n",
    "sns.kdeplot(raw_train.MSSubClass, raw_train.SalePrice, cmap=cmap, n_levels=100, shade=True);"
   ]
  },
  {
   "cell_type": "code",
   "execution_count": 241,
   "metadata": {},
   "outputs": [],
   "source": [
    "%matplotlib inline"
   ]
  },
  {
   "cell_type": "code",
   "execution_count": 242,
   "metadata": {},
   "outputs": [],
   "source": [
    "import pandas as pd\n",
    "import numpy as np\n",
    "import seaborn as sns\n",
    "from matplotlib import pyplot as plt\n",
    "plt.style.use('ggplot')"
   ]
  },
  {
   "cell_type": "code",
   "execution_count": 243,
   "metadata": {},
   "outputs": [],
   "source": [
    "raw_train = pd.read_csv(\"../data/train.csv\")\n",
    "del(raw_train['Id'])"
   ]
  },
  {
   "cell_type": "code",
   "execution_count": 244,
   "metadata": {},
   "outputs": [],
   "source": [
    "f, ax = plt.subplots(figsize=(50, 30))\n",
    "corr = raw_train.corr()\n",
    "sns.set(font_scale=2.0)\n",
    "hm = sns.heatmap(round(corr,2), annot=True, ax=ax, cmap=\"coolwarm\",fmt='.2f',\n",
    "                 linewidths=.1)\n",
    "ax.set_title('Correlation HeatMap', fontsize=50)"
   ]
  },
  {
   "cell_type": "code",
   "execution_count": 245,
   "metadata": {},
   "outputs": [],
   "source": [
    "#Sale Price and each subclass\n",
    "f, ax = plt.subplots(figsize=(50, 25))\n",
    "sns.set(font_scale=2.0)\n",
    "cmap = sns.cubehelix_palette(as_cmap=True, dark=0, light=1, reverse=True)\n",
    "sns.kdeplot(raw_train.MSSubClass, raw_train.SalePrice, cmap=cmap, n_levels=100, shade=True);"
   ]
  },
  {
   "cell_type": "code",
   "execution_count": 246,
   "metadata": {},
   "outputs": [],
   "source": [
    "#Sale Price and each subclass\n",
    "f, ax = plt.subplots(figsize=(50, 25))\n",
    "sns.set(font_scale=1.0)\n",
    "cmap = sns.cubehelix_palette(as_cmap=True, dark=0, light=1, reverse=True)\n",
    "sns.kdeplot(raw_train.MSSubClass, raw_train.SalePrice, cmap=cmap, n_levels=100, shade=True);"
   ]
  },
  {
   "cell_type": "code",
   "execution_count": 247,
   "metadata": {},
   "outputs": [],
   "source": [
    "#Sale Price and each subclass\n",
    "f, ax = plt.subplots(figsize=(60, 25))\n",
    "sns.set(font_scale=1.0)\n",
    "cmap = sns.cubehelix_palette(as_cmap=True, dark=0, light=1, reverse=True)\n",
    "sns.kdeplot(raw_train.MSSubClass, raw_train.SalePrice, cmap=cmap, n_levels=100, shade=True);"
   ]
  },
  {
   "cell_type": "code",
   "execution_count": 248,
   "metadata": {},
   "outputs": [],
   "source": [
    "#Sale Price and each subclass\n",
    "f, ax = plt.subplots(figsize=(60, 30))\n",
    "sns.set(font_scale=1.0)\n",
    "cmap = sns.cubehelix_palette(as_cmap=True, dark=0, light=1, reverse=True)\n",
    "sns.kdeplot(raw_train.MSSubClass, raw_train.SalePrice, cmap=cmap, n_levels=100, shade=True);"
   ]
  },
  {
   "cell_type": "code",
   "execution_count": 249,
   "metadata": {},
   "outputs": [],
   "source": [
    "#Sale Price and each subclass\n",
    "f, ax = plt.subplots(figsize=(60, 30))\n",
    "sns.set(font_scale=2.0)\n",
    "cmap = sns.cubehelix_palette(as_cmap=True, dark=0, light=1, reverse=True)\n",
    "sns.kdeplot(raw_train.MSSubClass, raw_train.SalePrice, cmap=cmap, n_levels=100, shade=True);"
   ]
  },
  {
   "cell_type": "code",
   "execution_count": 250,
   "metadata": {},
   "outputs": [],
   "source": [
    "#Sale Price and each subclass\n",
    "f, ax = plt.subplots(figsize=(60, 30))\n",
    "sns.set(font_scale=3.0)\n",
    "cmap = sns.cubehelix_palette(as_cmap=True, dark=0, light=1, reverse=True)\n",
    "sns.kdeplot(raw_train.MSSubClass, raw_train.SalePrice, cmap=cmap, n_levels=100, shade=True);"
   ]
  },
  {
   "cell_type": "code",
   "execution_count": 251,
   "metadata": {},
   "outputs": [],
   "source": [
    "#Sale Price and each subclass\n",
    "f, ax = plt.subplots(figsize=(20, 10))\n",
    "sns.set(font_scale=3.0)\n",
    "cmap = sns.cubehelix_palette(as_cmap=True, dark=0, light=1, reverse=True)\n",
    "sns.kdeplot(raw_train.MSSubClass, raw_train.SalePrice, cmap=cmap, n_levels=100, shade=True);"
   ]
  },
  {
   "cell_type": "code",
   "execution_count": 252,
   "metadata": {},
   "outputs": [],
   "source": [
    "#Sale Price and each subclass\n",
    "f, ax = plt.subplots(figsize=(20, 10))\n",
    "sns.set(font_scale=2.0)\n",
    "cmap = sns.cubehelix_palette(as_cmap=True, dark=0, light=1, reverse=True)\n",
    "sns.kdeplot(raw_train.MSSubClass, raw_train.SalePrice, cmap=cmap, n_levels=100, shade=True);"
   ]
  },
  {
   "cell_type": "code",
   "execution_count": 253,
   "metadata": {},
   "outputs": [],
   "source": [
    "#Sale Price and each subclass\n",
    "f, ax = plt.subplots(figsize=(20, 10))\n",
    "sns.set(font_scale=1.4)\n",
    "cmap = sns.cubehelix_palette(as_cmap=True, dark=0, light=1, reverse=True)\n",
    "sns.kdeplot(raw_train.MSSubClass, raw_train.SalePrice, cmap=cmap, n_levels=100, shade=True);"
   ]
  },
  {
   "cell_type": "code",
   "execution_count": 254,
   "metadata": {},
   "outputs": [],
   "source": [
    "f, ax = plt.subplots(figsize=(20, 10))\n",
    "corr = raw_train.corr()\n",
    "sns.set(font_scale=2.0)\n",
    "hm = sns.heatmap(round(corr,2), annot=True, ax=ax, cmap=\"coolwarm\",fmt='.2f',\n",
    "                 linewidths=.1)\n",
    "ax.set_title('Correlation HeatMap', fontsize=50)"
   ]
  },
  {
   "cell_type": "code",
   "execution_count": 255,
   "metadata": {},
   "outputs": [],
   "source": [
    "f, ax = plt.subplots(figsize=(40, 30))\n",
    "corr = raw_train.corr()\n",
    "sns.set(font_scale=2.0)\n",
    "hm = sns.heatmap(round(corr,2), annot=True, ax=ax, cmap=\"coolwarm\",fmt='.2f',\n",
    "                 linewidths=.1)\n",
    "ax.set_title('Correlation HeatMap', fontsize=50)"
   ]
  },
  {
   "cell_type": "code",
   "execution_count": 256,
   "metadata": {},
   "outputs": [],
   "source": [
    "f, ax = plt.subplots(figsize=(40, 30))\n",
    "corr = raw_train.corr()\n",
    "sns.set(font_scale=1.5)\n",
    "hm = sns.heatmap(round(corr,2), annot=True, ax=ax, cmap=\"coolwarm\",fmt='.2f',\n",
    "                 linewidths=.1)\n",
    "ax.set_title('Correlation HeatMap', fontsize=50)"
   ]
  },
  {
   "cell_type": "code",
   "execution_count": 257,
   "metadata": {},
   "outputs": [],
   "source": [
    "f, ax = plt.subplots(figsize=(40, 35))\n",
    "corr = raw_train.corr()\n",
    "sns.set(font_scale=1.5)\n",
    "hm = sns.heatmap(round(corr,2), annot=True, ax=ax, cmap=\"coolwarm\",fmt='.2f',\n",
    "                 linewidths=.1)\n",
    "ax.set_title('Correlation HeatMap', fontsize=50)"
   ]
  },
  {
   "cell_type": "code",
   "execution_count": 258,
   "metadata": {},
   "outputs": [],
   "source": [
    "f, ax = plt.subplots(figsize=(40, 30))\n",
    "corr = raw_train.corr()\n",
    "sns.set(font_scale=1.5)\n",
    "hm = sns.heatmap(round(corr,2), annot=True, ax=ax, cmap=\"coolwarm\",fmt='.2f',\n",
    "                 linewidths=.1)\n",
    "ax.set_title('Correlation HeatMap', fontsize=50)"
   ]
  },
  {
   "cell_type": "code",
   "execution_count": 259,
   "metadata": {},
   "outputs": [],
   "source": [
    "f, ax = plt.subplots(figsize=(40, 30))\n",
    "corr = raw_train.corr()\n",
    "sns.set(font_scale=1.8)\n",
    "hm = sns.heatmap(round(corr,2), annot=True, ax=ax, cmap=\"coolwarm\",fmt='.2f',\n",
    "                 linewidths=.1)\n",
    "ax.set_title('Correlation HeatMap', fontsize=50)"
   ]
  },
  {
   "cell_type": "code",
   "execution_count": 260,
   "metadata": {},
   "outputs": [],
   "source": [
    "f, ax = plt.subplots(figsize=(40, 30))\n",
    "corr = raw_train.corr()\n",
    "sns.set(font_scale=2.0)\n",
    "hm = sns.heatmap(round(corr,2), annot=True, ax=ax, cmap=\"coolwarm\",fmt='.2f',\n",
    "                 linewidths=.1)\n",
    "ax.set_title('Correlation HeatMap', fontsize=50)"
   ]
  },
  {
   "cell_type": "code",
   "execution_count": 261,
   "metadata": {},
   "outputs": [],
   "source": [
    "f, ax = plt.subplots(figsize=(30, 25))\n",
    "corr = raw_train.corr()\n",
    "sns.set(font_scale=2.0)\n",
    "hm = sns.heatmap(round(corr,2), annot=True, ax=ax, cmap=\"coolwarm\",fmt='.2f',\n",
    "                 linewidths=.1)\n",
    "ax.set_title('Correlation HeatMap', fontsize=50)"
   ]
  },
  {
   "cell_type": "code",
   "execution_count": 262,
   "metadata": {},
   "outputs": [],
   "source": [
    "f, ax = plt.subplots(figsize=(30, 25))\n",
    "corr = raw_train.corr()\n",
    "sns.set(font_scale=1.4)\n",
    "hm = sns.heatmap(round(corr,2), annot=True, ax=ax, cmap=\"coolwarm\",fmt='.2f',\n",
    "                 linewidths=.1)\n",
    "ax.set_title('Correlation HeatMap', fontsize=50)"
   ]
  },
  {
   "cell_type": "code",
   "execution_count": 263,
   "metadata": {},
   "outputs": [],
   "source": [
    "f, ax = plt.subplots(figsize=(30, 25))\n",
    "corr = raw_train.corr()\n",
    "sns.set(font_scale=1.2)\n",
    "hm = sns.heatmap(round(corr,2), annot=True, ax=ax, cmap=\"coolwarm\",fmt='.2f',\n",
    "                 linewidths=.1)\n",
    "ax.set_title('Correlation HeatMap', fontsize=50)"
   ]
  },
  {
   "cell_type": "code",
   "execution_count": 264,
   "metadata": {},
   "outputs": [],
   "source": [
    "#Sale Price and each subclass\n",
    "f, ax = plt.subplots(figsize=(20, 10))\n",
    "sns.set(font_scale=1.4)\n",
    "cmap = sns.cubehelix_palette(as_cmap=True, dark=0, light=1, reverse=True)\n",
    "sns.kdeplot(raw_train.MSSubClass, raw_train.LotFrontage, cmap=cmap, n_levels=100, shade=True);"
   ]
  },
  {
   "cell_type": "code",
   "execution_count": 265,
   "metadata": {},
   "outputs": [],
   "source": [
    "#Sale Price and each subclass\n",
    "f, ax = plt.subplots(figsize=(20, 10))\n",
    "sns.set(font_scale=1.4)\n",
    "cmap = sns.cubehelix_palette(as_cmap=True, dark=0, light=1, reverse=True)\n",
    "sns.kdeplot(raw_train.MSSubClass, raw_train.LotArea, cmap=cmap, n_levels=100, shade=True);"
   ]
  },
  {
   "cell_type": "code",
   "execution_count": 266,
   "metadata": {},
   "outputs": [],
   "source": [
    "#Sale Price and each subclass\n",
    "f, ax = plt.subplots(figsize=(20, 10))\n",
    "sns.set(font_scale=1.4)\n",
    "cmap = sns.cubehelix_palette(as_cmap=True, dark=0, light=1, reverse=True)\n",
    "sns.kdeplot(raw_train.MSSubClass, raw_train.SalePrice, cmap=cmap, n_levels=100, shade=True);"
   ]
  },
  {
   "cell_type": "code",
   "execution_count": 267,
   "metadata": {},
   "outputs": [],
   "source": [
    "#Sale Price and each subclass\n",
    "f, ax = plt.subplots(figsize=(20, 10))\n",
    "sns.set(font_scale=1.4)\n",
    "cmap = sns.cubehelix_palette(as_cmap=True, dark=0, light=1, reverse=True)\n",
    "a = sns.kdeplot(raw_train.MSSubClass, raw_train.SalePrice, cmap=cmap, n_levels=100, shade=True);\n",
    "a.set_xticklabels(step=10)\n",
    "a.plot()"
   ]
  },
  {
   "cell_type": "code",
   "execution_count": 268,
   "metadata": {},
   "outputs": [],
   "source": [
    "#Sale Price and each subclass\n",
    "f, ax = plt.subplots(figsize=(20, 10))\n",
    "sns.set(font_scale=1.4)\n",
    "cmap = sns.cubehelix_palette(as_cmap=True, dark=0, light=1, reverse=True)\n",
    "a = sns.kdeplot(raw_train.MSSubClass, raw_train.SalePrice, cmap=cmap, n_levels=100, shade=True);\n",
    "a.set_xticklabels(step=20)\n",
    "a.plot()"
   ]
  },
  {
   "cell_type": "code",
   "execution_count": 269,
   "metadata": {},
   "outputs": [],
   "source": [
    "#Sale Price and each subclass\n",
    "f, ax = plt.subplots(figsize=(20, 10))\n",
    "sns.set(font_scale=1.4)\n",
    "cmap = sns.cubehelix_palette(as_cmap=True, dark=0, light=1, reverse=True)\n",
    "a = sns.kdeplot(raw_train.MSSubClass, raw_train.SalePrice, cmap=cmap, n_levels=100, shade=True);\n",
    "a.set_xticklabels(step=20, rotation = 30)\n",
    "a.plot()"
   ]
  },
  {
   "cell_type": "code",
   "execution_count": 270,
   "metadata": {},
   "outputs": [],
   "source": [
    "#Sale Price and each subclass\n",
    "f, ax = plt.subplots(figsize=(20, 10))\n",
    "sns.set(font_scale=1.4)\n",
    "cmap = sns.cubehelix_palette(as_cmap=True, dark=0, light=1, reverse=True)\n",
    "a = sns.kdeplot(raw_train.MSSubClass, raw_train.SalePrice, cmap=cmap, n_levels=100, shade=True);"
   ]
  },
  {
   "cell_type": "code",
   "execution_count": 271,
   "metadata": {},
   "outputs": [],
   "source": [
    "df = pd.read_csv(\"./data/train.csv\")"
   ]
  },
  {
   "cell_type": "code",
   "execution_count": 272,
   "metadata": {},
   "outputs": [],
   "source": [
    "df = pd.read_csv(\"../data/train.csv\")"
   ]
  },
  {
   "cell_type": "code",
   "execution_count": 273,
   "metadata": {},
   "outputs": [],
   "source": [
    "Year_range = pd.DataFrame([[2005, 12, 4.25],\n",
    "[2006, 1, 4.25],\n",
    "[2006, 2, 4.5],\n",
    "[2006, 3, 4.5],\n",
    "[2006, 4, 4.75],\n",
    "[2006, 5, 5],\n",
    "[2006, 6, 5],\n",
    "[2006, 7, 5.25],\n",
    "[2006, 8, 5.25],\n",
    "[2006, 9, 5.25],\n",
    "[2006, 10, 5.25],\n",
    "[2006, 11, 5.25],\n",
    "[2006, 12, 4.25],\n",
    "[2007, 1, 4.25],\n",
    "[2007, 2, 4.25],\n",
    "[2007, 3, 4.25],\n",
    "[2007, 4, 4.25],\n",
    "[2007, 5, 4.25],\n",
    "[2007, 6, 4.25],\n",
    "[2007, 7, 4.25],\n",
    "[2007, 8, 4.25],\n",
    "[2007, 9, 4.25],\n",
    "[2007, 10, 4.75],\n",
    "[2007, 11, 4.50],\n",
    "[2007, 12, 4.25],\n",
    "[2008, 1, 3],\n",
    "[2008, 2, 3],\n",
    "[2008, 3, 2.25],\n",
    "[2008, 4, 2.25],\n",
    "[2008, 5, 2],\n",
    "[2008, 6, 2],\n",
    "[2008, 7, 2],\n",
    "[2008, 8, 2],\n",
    "[2008, 9, 2],\n",
    "[2008, 10, 1.5],\n",
    "[2008, 11, 1],\n",
    "[2008, 12, 1],\n",
    "[2009, 1, 0],\n",
    "[2009, 2, 0],\n",
    "[2009, 3, 0],\n",
    "[2009, 4, 0],\n",
    "[2009, 5, 0],\n",
    "[2009, 6, 0],\n",
    "[2009, 7, 0],\n",
    "[2009, 8, 0],\n",
    "[2009, 9, 0],\n",
    "[2009, 10, 0],\n",
    "[2009, 11, 0],\n",
    "[2009, 12, 0],\n",
    "[2010, 1, 0],\n",
    "[2010, 2, 0],\n",
    "[2010, 3, 0],\n",
    "[2010, 4, 0],\n",
    "[2010, 5, 0],\n",
    "[2010, 6, 0],\n",
    "[2010, 7, 0],\n",
    "[2010, 8, 0],\n",
    "[2010, 9, 0],\n",
    "[2010, 10, 0],\n",
    "[2010, 11, 0],\n",
    "[2010, 12, 0],\n",
    "[2011, 1, 0],\n",
    "[2011, 2, 0],\n",
    "[2011, 3, 0],\n",
    "[2011, 4, 0],\n",
    "[2011, 5, 0],\n",
    "[2011, 6, 0],\n",
    "[2011, 7, 0],\n",
    "[2011, 8, 0],\n",
    "[2011, 9, 0],\n",
    "[2011, 10, 0],\n",
    "[2011, 11, 0],\n",
    "[2011, 12, 0],\n",
    "[2012, 1, 0],\n",
    "[2012, 2, 0],\n",
    "[2012, 3, 0],\n",
    "[2012, 4, 0],\n",
    "[2012, 5, 0],\n",
    "[2012, 6, 0],\n",
    "[2012, 7, 0],\n",
    "[2012, 8, 0],\n",
    "[2012, 9, 0],\n",
    "[2012, 10, 0],\n",
    "[2012, 11, 0],\n",
    "[2012, 12, 0]], columns = ['YrSold', 'MoSold', 'Interest'])"
   ]
  },
  {
   "cell_type": "code",
   "execution_count": 274,
   "metadata": {},
   "outputs": [],
   "source": [
    "df1 = pd.merge(df.reset_index(),Year_range, left_on= ['YrSold','MoSold'], right_on = ['YrSold','MoSold'])\n",
    "del[df1['index']]"
   ]
  },
  {
   "cell_type": "code",
   "execution_count": 275,
   "metadata": {},
   "outputs": [],
   "source": [
    "df1['period'] = df1['YrSold'].astype('str') + df1['MoSold'].astype('str')\n",
    "df1.tail()"
   ]
  },
  {
   "cell_type": "code",
   "execution_count": 276,
   "metadata": {},
   "outputs": [],
   "source": [
    "df1['period'] = pd.to_datetime(df1['period'], format='%Y%m', errors='ignore')"
   ]
  },
  {
   "cell_type": "code",
   "execution_count": 277,
   "metadata": {},
   "outputs": [],
   "source": [
    "a = df1[['period','Interest']]\n",
    "b = df1[['period', 'SalePrice']]\n",
    "b = b.groupby('period').mean()\n",
    "c = pd.merge(b,a, left_on = 'period', right_on = 'period')\n",
    "d = c.drop_duplicates(keep = 'first')\n",
    "d"
   ]
  },
  {
   "cell_type": "code",
   "execution_count": 278,
   "metadata": {},
   "outputs": [],
   "source": [
    "from mpl_toolkits.mplot3d import Axes3D\n",
    "import matplotlib.pyplot as plt\n",
    "import numpy as np\n",
    "\n",
    "\n",
    "def randrange(n, vmin, vmax):\n",
    "    '''\n",
    "    Helper function to make an array of random numbers having shape (n, )\n",
    "    with each number distributed Uniform(vmin, vmax).\n",
    "    '''\n",
    "    return (vmax - vmin)*np.random.rand(n) + vmin\n",
    "\n",
    "fig = plt.figure()\n",
    "ax = fig.add_subplot(111, projection='3d')\n",
    "\n",
    "n = 100\n",
    "\n",
    "# For each set of style and range settings, plot n random points in the box\n",
    "# defined by x in [23, 32], y in [0, 100], z in [zlow, zhigh].\n",
    "for c, m, zlow, zhigh in [('r', 'o', -50, -25), ('b', '^', -30, -5)]:\n",
    "    xs = randrange(n, 23, 32)\n",
    "    ys = randrange(n, 0, 100)\n",
    "    zs = randrange(n, zlow, zhigh)\n",
    "    ax.scatter(xs, ys, zs, c=c, marker=m)\n",
    "\n",
    "ax.set_xlabel('X Label')\n",
    "ax.set_ylabel('Y Label')\n",
    "ax.set_zlabel('Z Label')\n",
    "\n",
    "plt.show()"
   ]
  },
  {
   "cell_type": "code",
   "execution_count": 279,
   "metadata": {},
   "outputs": [],
   "source": [
    "\n",
    "I have timeseries data in 3D:\n",
    "\n",
    "import numpy as np\n",
    "import matplotlib.pyplot as plt\n",
    "import matplotlib.animation as animation\n",
    "from mpl_toolkits.mplot3d import Axes3D\n",
    "\n",
    "#  make data\n",
    "xs, ys, zs = np.random.normal(0, 10, 1000), np.random.normal(0, 10, 1000), np.random.normal(0, 10, 1000)\n",
    "\n",
    "fig = plt.figure()\n",
    "ax = fig.add_subplot(111, projection='3d')\n",
    "ax.set_xlabel('X')\n",
    "ax.set_ylabel('Y')\n",
    "ax.set_zlabel('Z')\n",
    "ax.set_title('3D acceleration vector distribution')\n",
    "\n",
    "#  make color change over time\n",
    "cm = plt.get_cmap('Set2')\n",
    "colors = np.linspace(0, 1, len(xs))\n",
    "my_colors = cm(colors)\n",
    "\n",
    "ax.scatter(0, 0, 0, 'o', c='r')  # mark origin\n",
    "ax.scatter(xs, ys, zs, 'o', alpha=1, c=colors, edgecolors='None',\n",
    "            cmap=cm)"
   ]
  },
  {
   "cell_type": "code",
   "execution_count": 280,
   "metadata": {},
   "outputs": [],
   "source": [
    "import numpy as np\n",
    "import matplotlib.pyplot as plt\n",
    "import matplotlib.animation as animation\n",
    "from mpl_toolkits.mplot3d import Axes3D\n",
    "\n",
    "#  make data\n",
    "xs, ys, zs = np.random.normal(0, 10, 1000), np.random.normal(0, 10, 1000), np.random.normal(0, 10, 1000)\n",
    "\n",
    "fig = plt.figure()\n",
    "ax = fig.add_subplot(111, projection='3d')\n",
    "ax.set_xlabel('X')\n",
    "ax.set_ylabel('Y')\n",
    "ax.set_zlabel('Z')\n",
    "ax.set_title('3D acceleration vector distribution')\n",
    "\n",
    "#  make color change over time\n",
    "cm = plt.get_cmap('Set2')\n",
    "colors = np.linspace(0, 1, len(xs))\n",
    "my_colors = cm(colors)\n",
    "\n",
    "ax.scatter(0, 0, 0, 'o', c='r')  # mark origin\n",
    "ax.scatter(xs, ys, zs, 'o', alpha=1, c=colors, edgecolors='None',\n",
    "            cmap=cm)"
   ]
  },
  {
   "cell_type": "code",
   "execution_count": 281,
   "metadata": {},
   "outputs": [],
   "source": [
    "import numpy as np\n",
    "import matplotlib.pyplot as plt\n",
    "import matplotlib.animation as animation\n",
    "from mpl_toolkits.mplot3d import Axes3D\n",
    "\n",
    "#  make data\n",
    "xs, ys, zs = np.random.normal(0, 10, 1000), np.random.normal(0, 10, 1000), np.random.normal(0, 10, 1000)\n",
    "\n",
    "fig = plt.figure()\n",
    "ax = fig.add_subplot(111, projection='3d')\n",
    "ax.set_xlabel('X')\n",
    "ax.set_ylabel('Y')\n",
    "ax.set_zlabel('Z')\n",
    "ax.set_title('3D acceleration vector distribution')\n",
    "\n",
    "#  make color change over time\n",
    "cm = plt.get_cmap('Set2')\n",
    "colors = np.linspace(0, 1, len(xs))\n",
    "my_colors = cm(colors)\n",
    "\n",
    "ax.scatter(0, 0, 0, 'o', c='r')  # mark origin\n",
    "ax.scatter(xs, ys, zs, 'o', alpha=1, c=colors, edgecolors='None',\n",
    "            cmap=cm)"
   ]
  },
  {
   "cell_type": "code",
   "execution_count": 282,
   "metadata": {},
   "outputs": [],
   "source": [
    "import numpy as np\n",
    "import matplotlib.pyplot as plt\n",
    "import matplotlib.animation as animation\n",
    "from mpl_toolkits.mplot3d import Axes3D\n",
    "\n",
    "#  make data\n",
    "xs = d['period'] \n",
    "ys = d['SalePrice']\n",
    "zs = d['Interest']\n",
    "\n",
    "fig = plt.figure()\n",
    "ax = fig.add_subplot(111, projection='3d')\n",
    "ax.set_xlabel('X')\n",
    "ax.set_ylabel('Y')\n",
    "ax.set_zlabel('Z')\n",
    "ax.set_title('3D acceleration vector distribution')\n",
    "\n",
    "#  make color change over time\n",
    "cm = plt.get_cmap('Set2')\n",
    "colors = np.linspace(0, 1, len(xs))\n",
    "my_colors = cm(colors)\n",
    "\n",
    "ax.scatter(0, 0, 0, 'o', c='r')  # mark origin\n",
    "ax.scatter(xs, ys, zs, 'o', alpha=1, c=colors, edgecolors='None',\n",
    "            cmap=cm)"
   ]
  },
  {
   "cell_type": "code",
   "execution_count": 283,
   "metadata": {},
   "outputs": [],
   "source": [
    "import numpy as np\n",
    "import matplotlib.pyplot as plt\n",
    "import matplotlib.animation as animation\n",
    "from mpl_toolkits.mplot3d import Axes3D\n",
    "\n",
    "#  make data\n",
    "xs = d.period.values \n",
    "ys = d.SalesPrice.values\n",
    "zs = d.Interest.values\n",
    "\n",
    "fig = plt.figure()\n",
    "ax = fig.add_subplot(111, projection='3d')\n",
    "ax.set_xlabel('X')\n",
    "ax.set_ylabel('Y')\n",
    "ax.set_zlabel('Z')\n",
    "ax.set_title('3D acceleration vector distribution')\n",
    "\n",
    "#  make color change over time\n",
    "cm = plt.get_cmap('Set2')\n",
    "colors = np.linspace(0, 1, len(xs))\n",
    "my_colors = cm(colors)\n",
    "\n",
    "ax.scatter(0, 0, 0, 'o', c='r')  # mark origin\n",
    "ax.scatter(xs, ys, zs, 'o', alpha=1, c=colors, edgecolors='None',\n",
    "            cmap=cm)"
   ]
  },
  {
   "cell_type": "code",
   "execution_count": 284,
   "metadata": {},
   "outputs": [],
   "source": [
    "import numpy as np\n",
    "import matplotlib.pyplot as plt\n",
    "import matplotlib.animation as animation\n",
    "from mpl_toolkits.mplot3d import Axes3D\n",
    "\n",
    "#  make data\n",
    "xs = d.period.values \n",
    "ys = d.SalePrice.values\n",
    "zs = d.Interest.values\n",
    "\n",
    "fig = plt.figure()\n",
    "ax = fig.add_subplot(111, projection='3d')\n",
    "ax.set_xlabel('X')\n",
    "ax.set_ylabel('Y')\n",
    "ax.set_zlabel('Z')\n",
    "ax.set_title('3D acceleration vector distribution')\n",
    "\n",
    "#  make color change over time\n",
    "cm = plt.get_cmap('Set2')\n",
    "colors = np.linspace(0, 1, len(xs))\n",
    "my_colors = cm(colors)\n",
    "\n",
    "ax.scatter(0, 0, 0, 'o', c='r')  # mark origin\n",
    "ax.scatter(xs, ys, zs, 'o', alpha=1, c=colors, edgecolors='None',\n",
    "            cmap=cm)"
   ]
  },
  {
   "cell_type": "code",
   "execution_count": 285,
   "metadata": {},
   "outputs": [],
   "source": [
    "types(d['period'])"
   ]
  },
  {
   "cell_type": "code",
   "execution_count": 286,
   "metadata": {},
   "outputs": [],
   "source": [
    "class(d['period'])"
   ]
  },
  {
   "cell_type": "code",
   "execution_count": 287,
   "metadata": {},
   "outputs": [],
   "source": [
    "type(d['period'])"
   ]
  },
  {
   "cell_type": "code",
   "execution_count": 288,
   "metadata": {},
   "outputs": [],
   "source": [
    "x = d.period"
   ]
  },
  {
   "cell_type": "code",
   "execution_count": 289,
   "metadata": {},
   "outputs": [],
   "source": [
    "x = d.period\n",
    "x"
   ]
  },
  {
   "cell_type": "code",
   "execution_count": 290,
   "metadata": {},
   "outputs": [],
   "source": [
    "x = d.period\n",
    "type(x)"
   ]
  },
  {
   "cell_type": "code",
   "execution_count": 291,
   "metadata": {},
   "outputs": [],
   "source": [
    "x = d.period.values\n",
    "type(x)"
   ]
  },
  {
   "cell_type": "code",
   "execution_count": 292,
   "metadata": {},
   "outputs": [],
   "source": [
    "x = d.period.values\n",
    "y = d.SalePrice.values\n",
    "z = d.Interest.values\n",
    "type(x)"
   ]
  },
  {
   "cell_type": "code",
   "execution_count": 293,
   "metadata": {},
   "outputs": [],
   "source": [
    "x = d.period.values\n",
    "y = d.SalePrice.values\n",
    "z = d.Interest.values\n",
    "type(y)"
   ]
  },
  {
   "cell_type": "code",
   "execution_count": 294,
   "metadata": {},
   "outputs": [],
   "source": [
    "x = d.period.values\n",
    "y = d.SalePrice.values\n",
    "z = d.Interest.values\n",
    "type(z)"
   ]
  },
  {
   "cell_type": "code",
   "execution_count": 295,
   "metadata": {},
   "outputs": [],
   "source": [
    "x = d.period.values\n",
    "y = d.SalePrice.values\n",
    "z = d.Interest.values\n",
    "type(z)"
   ]
  },
  {
   "cell_type": "code",
   "execution_count": 296,
   "metadata": {},
   "outputs": [],
   "source": [
    "import numpy as np\n",
    "import matplotlib.pyplot as plt\n",
    "import matplotlib.animation as animation\n",
    "from mpl_toolkits.mplot3d import Axes3D\n",
    "\n",
    "fig = plt.figure()\n",
    "ax = fig.add_subplot(111, projection='3d')\n",
    "ax.set_xlabel('X')\n",
    "ax.set_ylabel('Y')\n",
    "ax.set_zlabel('Z')\n",
    "ax.set_title('3D acceleration vector distribution')\n",
    "\n",
    "#  make color change over time\n",
    "#cm = plt.get_cmap('Set2')\n",
    "#colors = np.linspace(0, 1, len(xs))\n",
    "#my_colors = cm(colors)\n",
    "\n",
    "#ax.scatter(0, 0, 0, 'o', c='r')  # mark origin\n",
    "ax.scatter(x, y, z, 'o', alpha=1, c=colors, edgecolors='None',\n",
    "            cmap=cm)"
   ]
  },
  {
   "cell_type": "code",
   "execution_count": 297,
   "metadata": {},
   "outputs": [],
   "source": [
    "import numpy as np\n",
    "import matplotlib.pyplot as plt\n",
    "import matplotlib.animation as animation\n",
    "from mpl_toolkits.mplot3d import Axes3D\n",
    "\n",
    "fig = plt.figure()\n",
    "ax = fig.add_subplot(111, projection='3d')\n",
    "ax.set_xlabel('X')\n",
    "ax.set_ylabel('Y')\n",
    "ax.set_zlabel('Z')\n",
    "ax.set_title('3D acceleration vector distribution')\n",
    "\n",
    "#  make color change over time\n",
    "#cm = plt.get_cmap('Set2')\n",
    "#colors = np.linspace(0, 1, len(xs))\n",
    "#my_colors = cm(colors)\n",
    "\n",
    "ax.scatter(0, 0, 0, 'o', c='r')  # mark origin\n",
    "ax.scatter(x, y, z, 'o', alpha=1, c=colors, edgecolors='None',\n",
    "            cmap=cm)"
   ]
  },
  {
   "cell_type": "code",
   "execution_count": 298,
   "metadata": {},
   "outputs": [],
   "source": [
    "import matplotlib.pyplot as plt\n",
    "import matplotlib.animation as animation\n",
    "from mpl_toolkits.mplot3d import Axes3D"
   ]
  },
  {
   "cell_type": "code",
   "execution_count": 299,
   "metadata": {},
   "outputs": [],
   "source": [
    "fig = plt.figure()\n",
    "ax = fig.add_subplot(111, projection='3d')\n",
    "ax.set_xlabel('X')\n",
    "ax.set_ylabel('Y')\n",
    "ax.set_zlabel('Z')\n",
    "ax.set_title('3D acceleration vector distribution')\n",
    "\n",
    "#  make color change over time\n",
    "#cm = plt.get_cmap('Set2')\n",
    "#colors = np.linspace(0, 1, len(xs))\n",
    "#my_colors = cm(colors)\n",
    "\n",
    "ax.scatter(0, 0, 0, 'o', c='r')  # mark origin\n",
    "ax.scatter(x, y, z, 'o', alpha=1, c=colors, edgecolors='None',\n",
    "            cmap=cm)"
   ]
  },
  {
   "cell_type": "code",
   "execution_count": 300,
   "metadata": {},
   "outputs": [],
   "source": [
    "fig = plt.figure()\n",
    "ax = fig.add_subplot(111, projection='3d')\n",
    "ax.set_xlabel('X')\n",
    "ax.set_ylabel('Y')\n",
    "ax.set_zlabel('Z')\n",
    "ax.set_title('3D acceleration vector distribution')\n",
    "\n",
    "#  make color change over time\n",
    "#cm = plt.get_cmap('Set2')\n",
    "#colors = np.linspace(0, 1, len(xs))\n",
    "#my_colors = cm(colors)\n",
    "\n",
    "#ax.scatter(0, 0, 0, 'o', c='r')  # mark origin\n",
    "ax.scatter(x, y, z, 'o', alpha=1, c=colors, edgecolors='None',\n",
    "            cmap=cm)"
   ]
  },
  {
   "cell_type": "code",
   "execution_count": 301,
   "metadata": {},
   "outputs": [],
   "source": [
    "importance = pd.DataFrame({'feature': X.columns, 'f_importance' : randomforest.feature_importances_})\n",
    "x = importance.sort_values(by='f_importance', ascending=False).reset_index(drop=True)\n",
    "#x[:15].plot.bar(x='feature', y='f_importance', fontsize = 20, figsize = (20,10))\n",
    "y = x[:10]\n",
    "sns.set(font_scale=2.0)\n",
    "plt.figure(figsize=(30,20))\n",
    "sns.barplot(y['feature'], y['f_importance']).set_title(\"Important Variables\", fontsize = 40)"
   ]
  },
  {
   "cell_type": "code",
   "execution_count": 302,
   "metadata": {},
   "outputs": [],
   "source": [
    "importance = pd.DataFrame({'feature': X.columns, 'f_importance' : randomforest.feature_importances_})\n",
    "x = importance.sort_values(by='f_importance', ascending=False).reset_index(drop=True)\n",
    "#x[:15].plot.bar(x='feature', y='f_importance', fontsize = 20, figsize = (20,10))\n",
    "y = x[:10]\n",
    "sns.set(font_scale=2.0)\n",
    "plt.figure(figsize=(25,20))\n",
    "sns.barplot(y['feature'], y['f_importance']).set_title(\"Important Variables\", fontsize = 40)"
   ]
  },
  {
   "cell_type": "code",
   "execution_count": 303,
   "metadata": {},
   "outputs": [],
   "source": [
    "importance = pd.DataFrame({'feature': X.columns, 'f_importance' : randomforest.feature_importances_})\n",
    "x = importance.sort_values(by='f_importance', ascending=False).reset_index(drop=True)\n",
    "#x[:15].plot.bar(x='feature', y='f_importance', fontsize = 20, figsize = (20,10))\n",
    "y = x[:10]\n",
    "sns.set(font_scale=2.0)\n",
    "plt.figure(figsize=(25,20))\n",
    "sns.barplot(y['feature'], y['f_importance']).set_title(\"Top 10 Important Variables\", fontsize = 40)"
   ]
  },
  {
   "cell_type": "code",
   "execution_count": 304,
   "metadata": {},
   "outputs": [],
   "source": [
    "fig = figure(2)\n",
    "ax = fig.add_subplot(111, projection='3d')\n",
    "\n",
    "# Plot models:\n",
    "p = ax.scatter(x,y,z,c=misfits,vmin=0.3,vmax=1,s=2,edgecolor='none',marker='o')\n",
    "fig.colorbar(p, ticks=arange(0.3,1+0.1,0.1))\n",
    "\n",
    "# Plot settings:\n",
    "ax.set_xlim3d(0,max(x))\n",
    "ax.set_ylim3d(0,max(y))\n",
    "ax.set_zlim3d(1e17,1e19)\n",
    "ax.set_zscale('log')\n",
    "ax.set_xlabel(\"$V_{r}$ [$km/s$]\")\n",
    "ax.set_ylabel(\"$D_{max}$ [$m$]\")\n",
    "ax.set_zlabel(\"$M_{o}$ [$Nm$]\")\n",
    "ax.invert_xaxis()\n",
    "jet()\n",
    "title(\"Kinematic parameters and $M_{o}$\")"
   ]
  },
  {
   "cell_type": "code",
   "execution_count": 305,
   "metadata": {},
   "outputs": [],
   "source": [
    "fig = figure(2)\n",
    "ax = fig.add_subplot(111, projection='3d')\n",
    "\n",
    "# Plot models:\n",
    "p = ax.scatter(x,y,z,c=misfits,vmin=0.3,vmax=1,s=2,edgecolor='none',marker='o')\n",
    "fig.colorbar(p, ticks=arange(0.3,1+0.1,0.1))\n",
    "\n",
    "# Plot settings:\n",
    "ax.set_xlim3d(0,max(x))\n",
    "ax.set_ylim3d(0,max(y))\n",
    "ax.set_zlim3d(0,max(z))\n",
    "ax.set_xlabel(\"$V_{r}$ [$km/s$]\")\n",
    "ax.set_ylabel(\"$D_{max}$ [$m$]\")\n",
    "ax.set_zlabel(\"$M_{o}$ [$Nm$]\")\n",
    "ax.invert_xaxis()\n",
    "jet()\n",
    "title(\"Kinematic parameters and $M_{o}$\")"
   ]
  },
  {
   "cell_type": "code",
   "execution_count": 306,
   "metadata": {},
   "outputs": [],
   "source": [
    "#fig = figure(2)\n",
    "ax = fig.add_subplot(111, projection='3d')\n",
    "\n",
    "# Plot models:\n",
    "p = ax.scatter(x,y,z,c=misfits,vmin=0.3,vmax=1,s=2,edgecolor='none',marker='o')\n",
    "fig.colorbar(p, ticks=arange(0.3,1+0.1,0.1))\n",
    "\n",
    "# Plot settings:\n",
    "ax.set_xlim3d(0,max(x))\n",
    "ax.set_ylim3d(0,max(y))\n",
    "ax.set_zlim3d(0,max(z))\n",
    "ax.set_xlabel(\"$V_{r}$ [$km/s$]\")\n",
    "ax.set_ylabel(\"$D_{max}$ [$m$]\")\n",
    "ax.set_zlabel(\"$M_{o}$ [$Nm$]\")\n",
    "ax.invert_xaxis()\n",
    "jet()\n",
    "title(\"Kinematic parameters and $M_{o}$\")"
   ]
  },
  {
   "cell_type": "code",
   "execution_count": 307,
   "metadata": {},
   "outputs": [],
   "source": [
    "#fig = figure(2)\n",
    "ax = fig.add_subplot(111, projection='3d')\n",
    "\n",
    "# Plot models:\n",
    "p = ax.scatter(x,y,z,edgecolor='none',marker='o')\n",
    "fig.colorbar(p, ticks=arange(0.3,1+0.1,0.1))\n",
    "\n",
    "# Plot settings:\n",
    "ax.set_xlim3d(0,max(x))\n",
    "ax.set_ylim3d(0,max(y))\n",
    "ax.set_zlim3d(0,max(z))\n",
    "ax.set_xlabel(\"$V_{r}$ [$km/s$]\")\n",
    "ax.set_ylabel(\"$D_{max}$ [$m$]\")\n",
    "ax.set_zlabel(\"$M_{o}$ [$Nm$]\")\n",
    "ax.invert_xaxis()\n",
    "jet()\n",
    "title(\"Kinematic parameters and $M_{o}$\")"
   ]
  },
  {
   "cell_type": "code",
   "execution_count": 308,
   "metadata": {},
   "outputs": [],
   "source": [
    "#fig = figure(2)\n",
    "ax = fig.add_subplot(111, projection='3d')\n",
    "\n",
    "# Plot models:\n",
    "p = ax.scatter(x,y,z,edgecolor='none',marker='o')\n",
    "#fig.colorbar(p, ticks=arange(0.3,1+0.1,0.1))\n",
    "\n",
    "# Plot settings:\n",
    "ax.set_xlim3d(0,max(x))\n",
    "ax.set_ylim3d(0,max(y))\n",
    "ax.set_zlim3d(0,max(z))\n",
    "ax.set_xlabel(\"$V_{r}$ [$km/s$]\")\n",
    "ax.set_ylabel(\"$D_{max}$ [$m$]\")\n",
    "ax.set_zlabel(\"$M_{o}$ [$Nm$]\")\n",
    "#ax.invert_xaxis()\n",
    "#jet()\n",
    "title(\"Kinematic parameters and $M_{o}$\")"
   ]
  },
  {
   "cell_type": "code",
   "execution_count": 309,
   "metadata": {},
   "outputs": [],
   "source": [
    "raw_train.columns"
   ]
  },
  {
   "cell_type": "code",
   "execution_count": 310,
   "metadata": {},
   "outputs": [],
   "source": [
    "zoomin = raw_train [[['MSSubClass', 'MSZoning', 'LotFrontage', 'LotArea', 'Street', 'Alley',\n",
    "       'LotShape', 'LandContour', 'Utilities', 'LotConfig', 'LandSlope',\n",
    "       'Neighborhood', 'Condition1', 'Condition2', 'BldgType', 'HouseStyle',\n",
    "       'OverallQual', 'OverallCond', 'YearBuilt', 'YearRemodAdd', 'RoofStyle',\n",
    "       'RoofMatl', 'Exterior1st', 'Exterior2nd', 'MasVnrType', 'MasVnrArea',\n",
    "       'ExterQual', 'ExterCond', 'Foundation', 'BsmtQual', 'BsmtCond',\n",
    "       'BsmtExposure', 'BsmtFinType1', 'BsmtFinSF1', 'BsmtFinType2',\n",
    "       'BsmtFinSF2', 'BsmtUnfSF', 'TotalBsmtSF', 'Heating', 'HeatingQC',\n",
    "       'CentralAir', 'Electrical', '1stFlrSF', '2ndFlrSF', 'LowQualFinSF',\n",
    "       'GrLivArea', 'BsmtFullBath', 'BsmtHalfBath', 'FullBath', 'HalfBath',\n",
    "       'BedroomAbvGr', 'KitchenAbvGr', 'KitchenQual', 'TotRmsAbvGrd',\n",
    "       'Functional', 'Fireplaces', 'FireplaceQu', 'GarageType', 'GarageYrBlt',\n",
    "       'GarageFinish', 'GarageCars', 'GarageArea', 'GarageQual', 'GarageCond',\n",
    "       'PavedDrive', 'WoodDeckSF', 'OpenPorchSF']]"
   ]
  },
  {
   "cell_type": "code",
   "execution_count": 311,
   "metadata": {},
   "outputs": [],
   "source": [
    "zoomin = raw_train [['MSSubClass', 'MSZoning', 'LotFrontage', 'LotArea', 'Street', 'Alley',\n",
    "       'LotShape', 'LandContour', 'Utilities', 'LotConfig', 'LandSlope',\n",
    "       'Neighborhood', 'Condition1', 'Condition2', 'BldgType', 'HouseStyle',\n",
    "       'OverallQual', 'OverallCond', 'YearBuilt', 'YearRemodAdd', 'RoofStyle',\n",
    "       'RoofMatl', 'Exterior1st', 'Exterior2nd', 'MasVnrType', 'MasVnrArea',\n",
    "       'ExterQual', 'ExterCond', 'Foundation', 'BsmtQual', 'BsmtCond',\n",
    "       'BsmtExposure', 'BsmtFinType1', 'BsmtFinSF1', 'BsmtFinType2',\n",
    "       'BsmtFinSF2', 'BsmtUnfSF', 'TotalBsmtSF', 'Heating', 'HeatingQC',\n",
    "       'CentralAir', 'Electrical', '1stFlrSF', '2ndFlrSF', 'LowQualFinSF',\n",
    "       'GrLivArea', 'BsmtFullBath', 'BsmtHalfBath', 'FullBath', 'HalfBath',\n",
    "       'BedroomAbvGr', 'KitchenAbvGr', 'KitchenQual', 'TotRmsAbvGrd',\n",
    "       'Functional', 'Fireplaces', 'FireplaceQu', 'GarageType', 'GarageYrBlt',\n",
    "       'GarageFinish', 'GarageCars', 'GarageArea', 'GarageQual', 'GarageCond',\n",
    "       'PavedDrive', 'WoodDeckSF', 'OpenPorchSF']]"
   ]
  },
  {
   "cell_type": "code",
   "execution_count": 312,
   "metadata": {},
   "outputs": [],
   "source": [
    "zoomin = raw_train [['MSSubClass', 'MSZoning', 'LotFrontage', 'LotArea', 'Street', 'Alley',\n",
    "       'LotShape', 'LandContour', 'Utilities', 'LotConfig', 'LandSlope',\n",
    "       'Neighborhood', 'Condition1', 'Condition2', 'BldgType', 'HouseStyle',\n",
    "       'OverallQual', 'OverallCond', 'YearBuilt', 'YearRemodAdd', 'RoofStyle',\n",
    "       'RoofMatl', 'Exterior1st', 'Exterior2nd', 'MasVnrType', 'MasVnrArea',\n",
    "       'ExterQual', 'ExterCond', 'Foundation', 'BsmtQual', 'BsmtCond',\n",
    "       'BsmtExposure', 'BsmtFinType1', 'BsmtFinSF1', 'BsmtFinType2',\n",
    "       'BsmtFinSF2', 'BsmtUnfSF', 'TotalBsmtSF', 'Heating', 'HeatingQC',\n",
    "       'CentralAir', 'Electrical', '1stFlrSF', '2ndFlrSF', 'LowQualFinSF',\n",
    "       'GrLivArea', 'BsmtFullBath', 'BsmtHalfBath', 'FullBath', 'HalfBath',\n",
    "       'BedroomAbvGr', 'KitchenAbvGr', 'KitchenQual', 'TotRmsAbvGrd',\n",
    "       'Functional', 'Fireplaces', 'FireplaceQu', 'GarageType', 'GarageYrBlt',\n",
    "       'GarageFinish', 'GarageCars', 'GarageArea', 'GarageQual', 'GarageCond',\n",
    "       'PavedDrive', 'WoodDeckSF', 'OpenPorchSF']]\n",
    "zoomin.columns"
   ]
  },
  {
   "cell_type": "code",
   "execution_count": 313,
   "metadata": {},
   "outputs": [],
   "source": [
    "zoomin = raw_train [['MSSubClass', 'MSZoning', 'LotFrontage', 'LotArea', 'Street', 'Alley',\n",
    "       'LotShape', 'LandContour', 'Utilities', 'LotConfig', 'LandSlope',\n",
    "       'Neighborhood', 'Condition1', 'Condition2', 'BldgType', 'HouseStyle',\n",
    "       'OverallQual', 'OverallCond', 'YearBuilt', 'YearRemodAdd', 'RoofStyle',\n",
    "       'RoofMatl', 'Exterior1st', 'Exterior2nd', 'MasVnrType', 'MasVnrArea',\n",
    "       'ExterQual', 'ExterCond', 'Foundation', 'BsmtQual', 'BsmtCond',\n",
    "       'BsmtExposure', 'BsmtFinType1', 'BsmtFinSF1', 'BsmtFinType2',\n",
    "       'BsmtFinSF2', 'BsmtUnfSF', 'TotalBsmtSF', 'Heating', 'HeatingQC',\n",
    "       'CentralAir', 'Electrical', '1stFlrSF', '2ndFlrSF', 'LowQualFinSF',\n",
    "       'GrLivArea', 'BsmtFullBath', 'BsmtHalfBath', 'FullBath', 'HalfBath',\n",
    "       'BedroomAbvGr', 'KitchenAbvGr', 'KitchenQual', 'TotRmsAbvGrd',\n",
    "       'Functional', 'Fireplaces', 'FireplaceQu', 'GarageType', 'GarageYrBlt',\n",
    "       'GarageFinish', 'GarageCars', 'GarageArea', 'GarageQual', 'GarageCond',\n",
    "       'PavedDrive', 'WoodDeckSF', 'OpenPorchSF']]\n",
    "f, ax = plt.subplots(figsize=(30, 25))\n",
    "corr = zoomin.corr()\n",
    "sns.set(font_scale=1.2)\n",
    "hm = sns.heatmap(round(corr,2), annot=True, ax=ax, cmap=\"coolwarm\",fmt='.2f',\n",
    "                 linewidths=.1)\n",
    "ax.set_title('Correlation HeatMap', fontsize=50)"
   ]
  },
  {
   "cell_type": "code",
   "execution_count": 314,
   "metadata": {},
   "outputs": [],
   "source": [
    "importance = pd.DataFrame({'feature': X.columns, 'f_importance' : randomforest.feature_importances_})\n",
    "x = importance.sort_values(by='f_importance', ascending=False).reset_index(drop=True)\n",
    "#x[:15].plot.bar(x='feature', y='f_importance', fontsize = 20, figsize = (20,10))\n",
    "y = x[:10]\n",
    "sns.set(font_scale=2.0, style = \"whitegrid\")\n",
    "plt.figure(figsize=(25,20))\n",
    "sns.barplot(y['feature'], y['f_importance']).set_title(\"Top 10 Important Variables\", fontsize = 40)"
   ]
  },
  {
   "cell_type": "code",
   "execution_count": 315,
   "metadata": {},
   "outputs": [],
   "source": [
    "importance = pd.DataFrame({'feature': X.columns, 'f_importance' : randomforest.feature_importances_})\n",
    "x = importance.sort_values(by='f_importance', ascending=False).reset_index(drop=True)\n",
    "#x[:15].plot.bar(x='feature', y='f_importance', fontsize = 20, figsize = (20,10))\n",
    "y = x[:10]\n",
    "sns.set(font_scale=2.0, style = \"whitegrid\")\n",
    "plt.figure(figsize=(25,20))\n",
    "sns.barplot(y['feature'], y['f_importance']).set_title(\"Top 10 Important Variables\", fontsize = 40)\n",
    "sns.despine(left=True, bottom=True)"
   ]
  },
  {
   "cell_type": "code",
   "execution_count": 316,
   "metadata": {},
   "outputs": [],
   "source": [
    "importance = pd.DataFrame({'feature': X.columns, 'f_importance' : randomforest.feature_importances_})\n",
    "x = importance.sort_values(by='f_importance', ascending=False).reset_index(drop=True)\n",
    "#x[:15].plot.bar(x='feature', y='f_importance', fontsize = 20, figsize = (20,10))\n",
    "y = x[:10]\n",
    "sns.set(font_scale=2.0, style = \"whitegrid\")\n",
    "plt.figure(figsize=(25,20))\n",
    "sns.barplot(x = y['feature'],y = y['f_importance'], data = y).set_title(\"Top 10 Important Variables\", fontsize = 40)"
   ]
  },
  {
   "cell_type": "code",
   "execution_count": 317,
   "metadata": {},
   "outputs": [],
   "source": [
    "importance = pd.DataFrame({'feature': X.columns, 'f_importance' : randomforest.feature_importances_})\n",
    "x = importance.sort_values(by='f_importance', ascending=False).reset_index(drop=True)\n",
    "#x[:15].plot.bar(x='feature', y='f_importance', fontsize = 20, figsize = (20,10))\n",
    "y = x[:10]\n",
    "sns.set(font_scale=2.0, style = \"whitegrid\")\n",
    "plt.figure(figsize=(25,20))\n",
    "sns.barplot(x = y['feature'],y = y['f_importance'], data = y).set_title(\"Top 10 Important Variables\", fontsize = 40)\n",
    "ax.legend(ncol=2, loc=\"lower right\", frameon=True)"
   ]
  },
  {
   "cell_type": "code",
   "execution_count": 318,
   "metadata": {},
   "outputs": [],
   "source": [
    "y = x[:10]\n",
    "#sns.set(font_scale=2.0, style = \"whitegrid\")\n",
    "plt.figure(figsize=(25,20))\n",
    "sns.barplot(x = y['feature'],y = y['f_importance'], data = y).set_title(\"Top 10 Important Variables\", fontsize = 40)\n",
    "ax.legend(ncol=2, loc=\"lower right\", frameon=True)"
   ]
  },
  {
   "cell_type": "code",
   "execution_count": 319,
   "metadata": {},
   "outputs": [],
   "source": [
    "from plotly.graph_objs import Figure, Histogram, Layout"
   ]
  },
  {
   "cell_type": "code",
   "execution_count": 320,
   "metadata": {},
   "outputs": [],
   "source": [
    "layout = Layout(title=\"Histogram of IMDB score\",\n",
    "                bargap=0.2)\n",
    "fig = Figure(data=raw_train, layout=layout)\n",
    "\n",
    "plotly.offline.iplot(fig, show_link=False)"
   ]
  },
  {
   "cell_type": "code",
   "execution_count": 321,
   "metadata": {},
   "outputs": [],
   "source": [
    "layout = Layout(title=\"Histogram of IMDB score\",\n",
    "                bargap=0.2)\n",
    "fig = Figure(data=raw_train, layout=layout)"
   ]
  },
  {
   "cell_type": "code",
   "execution_count": 322,
   "metadata": {},
   "outputs": [],
   "source": [
    "zoomin = raw_train [['MSSubClass', 'MSZoning', 'LotFrontage', 'LotArea', 'Street', 'Alley',\n",
    "       'LotShape', 'LandContour', 'Utilities', 'LotConfig', 'LandSlope',\n",
    "       'Neighborhood', 'Condition1', 'Condition2', 'BldgType', 'HouseStyle',\n",
    "       'OverallQual', 'OverallCond', 'YearBuilt', 'YearRemodAdd', 'RoofStyle',\n",
    "       'RoofMatl', 'Exterior1st', 'Exterior2nd', 'MasVnrType', 'MasVnrArea',\n",
    "       'ExterQual', 'ExterCond', 'Foundation', 'BsmtQual', 'BsmtCond',\n",
    "       'BsmtExposure', 'BsmtFinType1', 'BsmtFinSF1', 'BsmtFinType2',\n",
    "       'BsmtFinSF2', 'BsmtUnfSF', 'TotalBsmtSF', 'Heating', 'HeatingQC',\n",
    "       'CentralAir', 'Electrical', '1stFlrSF', '2ndFlrSF', 'LowQualFinSF',\n",
    "       'GrLivArea', 'BsmtFullBath', 'BsmtHalfBath', 'FullBath', 'HalfBath',\n",
    "       'BedroomAbvGr', 'KitchenAbvGr', 'KitchenQual', 'TotRmsAbvGrd',\n",
    "       'Functional', 'Fireplaces', 'FireplaceQu', 'GarageType', 'GarageYrBlt',\n",
    "       'GarageFinish', 'GarageCars', 'GarageArea', 'GarageQual', 'GarageCond',\n",
    "       'PavedDrive', 'WoodDeckSF', 'OpenPorchSF', 'SalePrice']]\n",
    "f, ax = plt.subplots(figsize=(30, 25))\n",
    "corr = zoomin.corr()\n",
    "sns.set(font_scale=1.2)\n",
    "hm = sns.heatmap(round(corr,2), annot=True, ax=ax, cmap=\"coolwarm\",fmt='.2f',\n",
    "                 linewidths=.1)\n",
    "ax.set_title('Correlation HeatMap', fontsize=50)"
   ]
  },
  {
   "cell_type": "code",
   "execution_count": 323,
   "metadata": {},
   "outputs": [],
   "source": [
    "zoomin = raw_train [['MSSubClass', 'MSZoning', 'LotFrontage', 'LotArea', 'Street', 'Alley',\n",
    "       'LotShape', 'LandContour', 'Utilities', 'LotConfig', 'LandSlope',\n",
    "       'Neighborhood', 'Condition1', 'Condition2', 'BldgType', 'HouseStyle',\n",
    "       'OverallQual', 'OverallCond', 'YearBuilt', 'YearRemodAdd', 'RoofStyle',\n",
    "       'RoofMatl', 'Exterior1st', 'Exterior2nd', 'MasVnrType', 'MasVnrArea',\n",
    "       'ExterQual', 'ExterCond', 'Foundation', 'BsmtQual', 'BsmtCond',\n",
    "       'BsmtExposure', 'BsmtFinType1', 'BsmtFinSF1', 'BsmtFinType2',\n",
    "       'BsmtFinSF2', 'BsmtUnfSF', 'TotalBsmtSF', 'Heating', 'HeatingQC',\n",
    "       'CentralAir', 'Electrical', '1stFlrSF', '2ndFlrSF', 'LowQualFinSF',\n",
    "       'GrLivArea', 'BsmtFullBath', 'BsmtHalfBath', 'FullBath', 'HalfBath',\n",
    "       'BedroomAbvGr', 'KitchenQual', 'TotRmsAbvGrd',\n",
    "       'Functional', 'Fireplaces', 'FireplaceQu', 'GarageType', 'GarageYrBlt',\n",
    "       'GarageFinish', 'GarageCars', 'GarageArea', 'GarageQual', 'GarageCond',\n",
    "       'PavedDrive', 'WoodDeckSF', 'OpenPorchSF', 'SalePrice']]\n",
    "f, ax = plt.subplots(figsize=(30, 25))\n",
    "corr = zoomin.corr()\n",
    "sns.set(font_scale=1.2)\n",
    "hm = sns.heatmap(round(corr,2), annot=True, ax=ax, cmap=\"coolwarm\",fmt='.2f',\n",
    "                 linewidths=.1)\n",
    "ax.set_title('Correlation HeatMap', fontsize=50)"
   ]
  },
  {
   "cell_type": "code",
   "execution_count": 324,
   "metadata": {},
   "outputs": [],
   "source": [
    "zoomin = raw_train [['MSSubClass', 'MSZoning', 'LotFrontage', 'LotArea', 'Street', 'Alley',\n",
    "       'LotShape', 'LandContour', 'Utilities', 'LotConfig', 'LandSlope',\n",
    "       'Neighborhood', 'Condition1', 'Condition2', 'BldgType', 'HouseStyle',\n",
    "       'OverallQual', 'OverallCond', 'YearBuilt', 'YearRemodAdd', 'RoofStyle',\n",
    "       'RoofMatl', 'Exterior1st', 'Exterior2nd', 'MasVnrType', 'MasVnrArea',\n",
    "       'ExterQual', 'ExterCond', 'Foundation', 'BsmtQual', 'BsmtCond',\n",
    "       'BsmtExposure', 'BsmtFinType1', 'BsmtFinSF1', 'BsmtFinType2',\n",
    "       'BsmtFinSF2', 'BsmtUnfSF', 'TotalBsmtSF', 'Heating', 'HeatingQC',\n",
    "       'CentralAir', 'Electrical', '1stFlrSF', '2ndFlrSF',\n",
    "       'GrLivArea', 'BsmtFullBath', 'BsmtHalfBath', 'FullBath', 'HalfBath',\n",
    "       'BedroomAbvGr', 'KitchenQual', 'TotRmsAbvGrd',\n",
    "       'Functional', 'Fireplaces', 'FireplaceQu', 'GarageType', 'GarageYrBlt',\n",
    "       'GarageFinish', 'GarageCars', 'GarageArea', 'GarageQual', 'GarageCond',\n",
    "       'PavedDrive', 'WoodDeckSF', 'OpenPorchSF', 'SalePrice']]\n",
    "f, ax = plt.subplots(figsize=(30, 25))\n",
    "corr = zoomin.corr()\n",
    "sns.set(font_scale=1.2)\n",
    "hm = sns.heatmap(round(corr,2), annot=True, ax=ax, cmap=\"coolwarm\",fmt='.2f',\n",
    "                 linewidths=.1)\n",
    "ax.set_title('Correlation HeatMap', fontsize=50)"
   ]
  },
  {
   "cell_type": "code",
   "execution_count": 325,
   "metadata": {},
   "outputs": [],
   "source": [
    "zoomin = raw_train [['MSSubClass', 'MSZoning', 'LotFrontage', 'LotArea', 'Street', 'Alley',\n",
    "       'LotShape', 'LandContour', 'Utilities', 'LotConfig', 'LandSlope',\n",
    "       'Neighborhood', 'Condition1', 'Condition2', 'BldgType', 'HouseStyle',\n",
    "       'OverallQual', 'OverallCond', 'YearBuilt', 'YearRemodAdd', 'RoofStyle',\n",
    "       'RoofMatl', 'Exterior1st', 'Exterior2nd', 'MasVnrType', 'MasVnrArea',\n",
    "       'ExterQual', 'ExterCond', 'Foundation', 'BsmtQual', 'BsmtCond',\n",
    "       'BsmtExposure', 'BsmtFinType1', 'BsmtFinSF1', 'BsmtFinType2',\n",
    "       'BsmtFinSF2', 'BsmtUnfSF', 'TotalBsmtSF', 'Heating', 'HeatingQC',\n",
    "       'CentralAir', 'Electrical', '1stFlrSF', '2ndFlrSF',\n",
    "       'GrLivArea', 'BsmtFullBath', 'BsmtHalfBath', 'FullBath', 'HalfBath',\n",
    "       'BedroomAbvGr', 'KitchenQual', 'TotRmsAbvGrd',\n",
    "       'Functional', 'Fireplaces', 'FireplaceQu', 'GarageType', 'GarageYrBlt',\n",
    "       'GarageFinish', 'GarageCars', 'GarageArea', 'GarageQual', 'GarageCond',\n",
    "       'PavedDrive', 'WoodDeckSF', 'OpenPorchSF', 'SalePrice']]\n",
    "f, ax = plt.subplots(figsize=(30, 25))\n",
    "corr = zoomin.corr()\n",
    "sns.set(font_scale=1.6)\n",
    "hm = sns.heatmap(round(corr,2), annot=True, ax=ax, cmap=\"coolwarm\",fmt='.2f',\n",
    "                 linewidths=.1)\n",
    "ax.set_title('Correlation HeatMap', fontsize=50)"
   ]
  },
  {
   "cell_type": "code",
   "execution_count": 326,
   "metadata": {},
   "outputs": [],
   "source": [
    "zoomin = raw_train [['MSSubClass', 'MSZoning', 'LotFrontage', 'LotArea', 'Street', 'Alley',\n",
    "       'LotShape', 'LandContour', 'Utilities', 'LotConfig', 'LandSlope',\n",
    "       'Neighborhood', 'Condition1', 'Condition2', 'BldgType', 'HouseStyle',\n",
    "       'OverallQual', 'OverallCond', 'YearBuilt', 'YearRemodAdd', 'RoofStyle',\n",
    "       'RoofMatl', 'Exterior1st', 'Exterior2nd', 'MasVnrType', 'MasVnrArea',\n",
    "       'ExterQual', 'ExterCond', 'Foundation', 'BsmtQual', 'BsmtCond',\n",
    "       'BsmtExposure', 'BsmtFinType1', 'BsmtFinSF1', 'BsmtFinType2',\n",
    "       'BsmtFinSF2', 'BsmtUnfSF', 'TotalBsmtSF', 'Heating', 'HeatingQC',\n",
    "       'CentralAir', 'Electrical', '1stFlrSF', '2ndFlrSF',\n",
    "       'GrLivArea', 'BsmtFullBath', 'BsmtHalfBath', 'FullBath', 'HalfBath',\n",
    "       'BedroomAbvGr', 'KitchenQual', 'TotRmsAbvGrd',\n",
    "       'Functional', 'Fireplaces', 'FireplaceQu', 'GarageType', 'GarageYrBlt',\n",
    "       'GarageFinish', 'GarageCars', 'GarageArea', 'GarageQual', 'GarageCond',\n",
    "       'PavedDrive', 'WoodDeckSF', 'OpenPorchSF', 'SalePrice']]\n",
    "f, ax = plt.subplots(figsize=(20, 15))\n",
    "corr = zoomin.corr()\n",
    "sns.set(font_scale=1.6)\n",
    "hm = sns.heatmap(round(corr,2), annot=True, ax=ax, cmap=\"coolwarm\",fmt='.2f',\n",
    "                 linewidths=.1)\n",
    "ax.set_title('Correlation HeatMap', fontsize=50)"
   ]
  },
  {
   "cell_type": "code",
   "execution_count": 327,
   "metadata": {},
   "outputs": [],
   "source": [
    "zoomin = raw_train [['MSSubClass', 'MSZoning', 'LotFrontage', 'LotArea', 'Street', 'Alley',\n",
    "       'LotShape', 'LandContour', 'Utilities', 'LotConfig', 'LandSlope',\n",
    "       'Neighborhood', 'Condition1', 'Condition2', 'BldgType', 'HouseStyle',\n",
    "       'OverallQual', 'OverallCond', 'YearBuilt', 'YearRemodAdd', 'RoofStyle',\n",
    "       'RoofMatl', 'Exterior1st', 'Exterior2nd', 'MasVnrType', 'MasVnrArea',\n",
    "       'ExterQual', 'ExterCond', 'Foundation', 'BsmtQual', 'BsmtCond',\n",
    "       'BsmtExposure', 'BsmtFinType1', 'BsmtFinSF1', 'BsmtFinType2',\n",
    "       'BsmtFinSF2', 'BsmtUnfSF', 'TotalBsmtSF', 'Heating', 'HeatingQC',\n",
    "       'CentralAir', 'Electrical', '1stFlrSF', '2ndFlrSF',\n",
    "       'GrLivArea', 'BsmtFullBath', 'BsmtHalfBath', 'FullBath', 'HalfBath',\n",
    "       'BedroomAbvGr', 'KitchenQual', 'TotRmsAbvGrd',\n",
    "       'Functional', 'Fireplaces', 'FireplaceQu', 'GarageType', 'GarageYrBlt',\n",
    "       'GarageFinish', 'GarageCars', 'GarageArea', 'GarageQual', 'GarageCond',\n",
    "       'PavedDrive', 'WoodDeckSF', 'OpenPorchSF', 'SalePrice']]\n",
    "f, ax = plt.subplots(figsize=(20, 15))\n",
    "corr = zoomin.corr()\n",
    "sns.set(font_scale=1.2)\n",
    "hm = sns.heatmap(round(corr,2), annot=True, ax=ax, cmap=\"coolwarm\",fmt='.2f',\n",
    "                 linewidths=.1)\n",
    "ax.set_title('Correlation HeatMap', fontsize=50)"
   ]
  },
  {
   "cell_type": "code",
   "execution_count": 328,
   "metadata": {},
   "outputs": [],
   "source": [
    "zoomin = raw_train [['MSSubClass', 'MSZoning', 'LotFrontage', 'LotArea', 'Street', 'Alley',\n",
    "       'LotShape', 'LandContour', 'Utilities', 'LotConfig', 'LandSlope',\n",
    "       'Neighborhood', 'Condition1', 'Condition2', 'BldgType', 'HouseStyle',\n",
    "       'OverallQual', 'OverallCond', 'YearBuilt', 'YearRemodAdd', 'RoofStyle',\n",
    "       'RoofMatl', 'Exterior1st', 'Exterior2nd', 'MasVnrType', 'MasVnrArea',\n",
    "       'ExterQual', 'ExterCond', 'Foundation', 'BsmtQual', 'BsmtCond',\n",
    "       'BsmtExposure', 'BsmtFinType1', 'BsmtFinSF1', 'BsmtFinType2',\n",
    "       'BsmtFinSF2', 'BsmtUnfSF', 'TotalBsmtSF', 'Heating', 'HeatingQC',\n",
    "       'CentralAir', 'Electrical', '1stFlrSF', '2ndFlrSF',\n",
    "       'GrLivArea', 'BsmtFullBath', 'BsmtHalfBath', 'FullBath', 'HalfBath',\n",
    "       'BedroomAbvGr', 'KitchenQual', 'TotRmsAbvGrd',\n",
    "       'Functional', 'Fireplaces', 'FireplaceQu', 'GarageType', 'GarageYrBlt',\n",
    "       'GarageFinish', 'GarageCars', 'GarageArea', 'GarageQual', 'GarageCond',\n",
    "       'PavedDrive', 'WoodDeckSF', 'OpenPorchSF', 'SalePrice']]\n",
    "f, ax = plt.subplots(figsize=(20, 15))\n",
    "corr = zoomin.corr()\n",
    "sns.set(font_scale=1.0)\n",
    "hm = sns.heatmap(round(corr,2), annot=True, ax=ax, cmap=\"coolwarm\",fmt='.2f',\n",
    "                 linewidths=.1)\n",
    "ax.set_title('Correlation HeatMap', fontsize=50)"
   ]
  },
  {
   "cell_type": "code",
   "execution_count": 329,
   "metadata": {},
   "outputs": [],
   "source": [
    "importance = pd.DataFrame({'feature': X.columns, 'f_importance' : randomforest.feature_importances_})\n",
    "x = importance.sort_values(by='f_importance', ascending=False).reset_index(drop=True)\n",
    "#x[:15].plot.bar(x='feature', y='f_importance', fontsize = 20, figsize = (20,10))\n",
    "y = x[:10]\n",
    "#sns.set(font_scale=2.0, style = \"whitegrid\")\n",
    "plt.figure(figsize=(25,20))\n",
    "sns.horizontalbarplot(x = y['feature'],y = y['f_importance'], data = y).set_title(\"Top 10 Important Variables\", fontsize = 40)\n",
    "ax.legend(ncol=2, loc=\"lower right\", frameon=True)"
   ]
  },
  {
   "cell_type": "code",
   "execution_count": 330,
   "metadata": {},
   "outputs": [],
   "source": [
    "importance = pd.DataFrame({'feature': X.columns, 'f_importance' : randomforest.feature_importances_})\n",
    "x = importance.sort_values(by='f_importance', ascending=False).reset_index(drop=True)\n",
    "#x[:15].plot.bar(x='feature', y='f_importance', fontsize = 20, figsize = (20,10))\n",
    "y = x[:10]\n",
    "#sns.set(font_scale=2.0, style = \"whitegrid\")\n",
    "plt.figure(figsize=(25,20))\n",
    "sns.barplot(x = y['f_importance'],y = y['feature'], data = y).set_title(\"Top 10 Important Variables\", fontsize = 40)\n",
    "ax.legend(ncol=2, loc=\"lower right\", frameon=True)"
   ]
  },
  {
   "cell_type": "code",
   "execution_count": 331,
   "metadata": {},
   "outputs": [],
   "source": [
    "import plotly.plotly as py\n",
    "import plotly.graph_objs as go\n",
    "\n",
    "data = [go.Bar(\n",
    "            x=y['f_importance'],\n",
    "            y=y['feature'],\n",
    "            orientation = 'h'\n",
    ")]\n",
    "\n",
    "py.iplot(data, filename='horizontal-bar')"
   ]
  },
  {
   "cell_type": "code",
   "execution_count": 332,
   "metadata": {},
   "outputs": [],
   "source": [
    "import plotly.plotly as py\n",
    "import plotly.graph_objs as go\n",
    "\n",
    "data = [go.Bar(x=y['f_importance'], y=y['feature'], data = y, orientation = 'h')]\n",
    "py.iplot(data, filename='horizontal-bar')"
   ]
  },
  {
   "cell_type": "code",
   "execution_count": 333,
   "metadata": {},
   "outputs": [],
   "source": [
    "import plotly.plotly as py\n",
    "import plotly.graph_objs as go\n",
    "\n",
    "data = go.Bar(x=y['f_importance'], y=y['feature'], data = y, orientation = 'h')\n",
    "py.iplot(data, filename='horizontal-bar')"
   ]
  },
  {
   "cell_type": "code",
   "execution_count": 334,
   "metadata": {},
   "outputs": [],
   "source": [
    "importance = pd.DataFrame({'feature': X.columns, 'f_importance' : randomforest.feature_importances_})\n",
    "x = importance.sort_values(by='f_importance', ascending=False).reset_index(drop=True)\n",
    "#x[:15].plot.bar(x='feature', y='f_importance', fontsize = 20, figsize = (20,10))\n",
    "y = x[:10]\n",
    "#sns.set(font_scale=2.0, style = \"whitegrid\")\n",
    "plt.figure(figsize=(25,20), fontscale = 1.5)\n",
    "sns.barplot(x = y['f_importance'],y = y['feature'], data = y).set_title(\"Top 10 Important Variables\", fontsize = 40)\n",
    "ax.legend(ncol=2, loc=\"lower right\", frameon=True)"
   ]
  },
  {
   "cell_type": "code",
   "execution_count": 335,
   "metadata": {},
   "outputs": [],
   "source": [
    "importance = pd.DataFrame({'feature': X.columns, 'f_importance' : randomforest.feature_importances_})\n",
    "x = importance.sort_values(by='f_importance', ascending=False).reset_index(drop=True)\n",
    "#x[:15].plot.bar(x='feature', y='f_importance', fontsize = 20, figsize = (20,10))\n",
    "y = x[:10]\n",
    "#sns.set(font_scale=2.0, style = \"whitegrid\")\n",
    "plt.figure(figsize=(25,20))\n",
    "sns.set(font_scale=1.2)\n",
    "sns.barplot(x = y['f_importance'],y = y['feature'], data = y).set_title(\"Top 10 Important Variables\", fontsize = 40)\n",
    "ax.legend(ncol=2, loc=\"lower right\", frameon=True)"
   ]
  },
  {
   "cell_type": "code",
   "execution_count": 336,
   "metadata": {},
   "outputs": [],
   "source": [
    "importance = pd.DataFrame({'feature': X.columns, 'f_importance' : randomforest.feature_importances_})\n",
    "x = importance.sort_values(by='f_importance', ascending=False).reset_index(drop=True)\n",
    "#x[:15].plot.bar(x='feature', y='f_importance', fontsize = 20, figsize = (20,10))\n",
    "y = x[:10]\n",
    "#sns.set(font_scale=2.0, style = \"whitegrid\")\n",
    "plt.figure(figsize=(20,15))\n",
    "sns.set(font_scale=1.4)\n",
    "sns.barplot(x = y['f_importance'],y = y['feature'], data = y).set_title(\"Top 10 Important Variables\", fontsize = 40)\n",
    "ax.legend(ncol=2, loc=\"lower right\", frameon=True)"
   ]
  },
  {
   "cell_type": "code",
   "execution_count": 337,
   "metadata": {},
   "outputs": [],
   "source": [
    "importance = pd.DataFrame({'feature': X.columns, 'f_importance' : randomforest.feature_importances_})\n",
    "x = importance.sort_values(by='f_importance', ascending=False).reset_index(drop=True)\n",
    "#x[:15].plot.bar(x='feature', y='f_importance', fontsize = 20, figsize = (20,10))\n",
    "y = x[:10]\n",
    "#sns.set(font_scale=2.0, style = \"whitegrid\")\n",
    "plt.figure(figsize=(20,15))\n",
    "sns.set(font_scale=1.6)\n",
    "sns.barplot(x = y['f_importance'],y = y['feature'], data = y).set_title(\"Top 10 Important Variables\", fontsize = 40)\n",
    "ax.legend(ncol=2, loc=\"lower right\", frameon=True)"
   ]
  },
  {
   "cell_type": "code",
   "execution_count": 338,
   "metadata": {},
   "outputs": [],
   "source": [
    "importance = pd.DataFrame({'feature': X.columns, 'f_importance' : randomforest.feature_importances_})\n",
    "x = importance.sort_values(by='f_importance', ascending=False).reset_index(drop=True)\n",
    "#x[:15].plot.bar(x='feature', y='f_importance', fontsize = 20, figsize = (20,10))\n",
    "y = x[:10]\n",
    "#sns.set(font_scale=2.0, style = \"whitegrid\")\n",
    "plt.figure(figsize=(20,15))\n",
    "sns.set(font_scale=1.8)\n",
    "sns.barplot(x = y['f_importance'],y = y['feature'], data = y).set_title(\"Top 10 Important Variables\", fontsize = 40)\n",
    "ax.legend(ncol=2, loc=\"lower right\", frameon=True)"
   ]
  },
  {
   "cell_type": "code",
   "execution_count": 339,
   "metadata": {},
   "outputs": [],
   "source": [
    "raw_train['MSSubClass'].value_counts()"
   ]
  }
 ],
 "metadata": {},
 "nbformat": 4,
 "nbformat_minor": 2
}
