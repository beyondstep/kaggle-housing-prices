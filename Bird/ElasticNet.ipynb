{
 "cells": [
  {
   "cell_type": "code",
   "execution_count": 1,
   "metadata": {},
   "outputs": [],
   "source": [
    "import pandas as pd\n",
    "import numpy as np\n",
    "%matplotlib inline"
   ]
  },
  {
   "cell_type": "code",
   "execution_count": 2,
   "metadata": {},
   "outputs": [],
   "source": [
    "df_train = pd.read_pickle('../train.pkl')\n",
    "df_train.shape"
   ]
  },
  {
   "cell_type": "code",
   "execution_count": 3,
   "metadata": {},
   "outputs": [],
   "source": [
    "df_test = pd.read_pickle('../test.pkl')\n",
    "df_test.shape"
   ]
  },
  {
   "cell_type": "code",
   "execution_count": 4,
   "metadata": {},
   "outputs": [],
   "source": [
    "X = df_train.drop('SalePrice', axis = 1)\n",
    "y = df_train['SalePrice']"
   ]
  },
  {
   "cell_type": "code",
   "execution_count": 5,
   "metadata": {},
   "outputs": [],
   "source": [
    "y.shape"
   ]
  },
  {
   "cell_type": "code",
   "execution_count": 6,
   "metadata": {},
   "outputs": [],
   "source": [
    "X.shape"
   ]
  },
  {
   "cell_type": "code",
   "execution_count": 7,
   "metadata": {},
   "outputs": [],
   "source": [
    "X_1 = df_train.drop('SalePrice', axis=1)\n",
    "X_1['Random_Noise'] = np.random.random(size=len(X_1))\n",
    "y_1 = df_train['SalePrice']"
   ]
  },
  {
   "cell_type": "code",
   "execution_count": 8,
   "metadata": {},
   "outputs": [],
   "source": [
    "y_1.shape"
   ]
  },
  {
   "cell_type": "code",
   "execution_count": 9,
   "metadata": {},
   "outputs": [],
   "source": [
    "X_1.shape"
   ]
  },
  {
   "cell_type": "code",
   "execution_count": 10,
   "metadata": {},
   "outputs": [],
   "source": [
    "from sklearn import preprocessing\n",
    "from sklearn.preprocessing import StandardScaler\n",
    "y = np.log(y)"
   ]
  },
  {
   "cell_type": "code",
   "execution_count": 11,
   "metadata": {},
   "outputs": [],
   "source": [
    "scale = StandardScaler()\n",
    "scale.fit(X)\n",
    "X1 = scale.transform(X)"
   ]
  },
  {
   "cell_type": "code",
   "execution_count": 12,
   "metadata": {},
   "outputs": [],
   "source": [
    "scale.fit(df_test)\n",
    "z1 = scale.transform(df_test)"
   ]
  },
  {
   "cell_type": "code",
   "execution_count": 13,
   "metadata": {},
   "outputs": [],
   "source": [
    "y_1 = np.log(y_1)"
   ]
  },
  {
   "cell_type": "code",
   "execution_count": 14,
   "metadata": {},
   "outputs": [],
   "source": [
    "scale = StandardScaler()\n",
    "scale.fit(X_1)\n",
    "X_2 = scale.transform(X_1)"
   ]
  },
  {
   "cell_type": "code",
   "execution_count": 15,
   "metadata": {},
   "outputs": [],
   "source": [
    "from sklearn.linear_model import ElasticNet\n",
    "regr = ElasticNet(random_state=0)\n",
    "regr.fit(X1, y)\n",
    "ElasticNet(alpha=1.0, fit_intercept=True, l1_ratio=1.0,\n",
    "      max_iter=1000, random_state=42, selection='random')\n",
    "regr.score(X1,y)"
   ]
  },
  {
   "cell_type": "code",
   "execution_count": 16,
   "metadata": {},
   "outputs": [],
   "source": [
    "from sklearn.linear_model import ElasticNetCV\n",
    "#alpha = 1\n",
    "elasregrCV= ElasticNetCV(alphas = [0.0001,0.001,0.01,0.1,1], \n",
    "                         l1_ratio= [.1, .5, .7, .9, .95, .99, .995, 1], \n",
    "                         max_iter=100000, fit_intercept = True, selection = 'random',\n",
    "                         random_state=42)\n",
    "elasregrCV.fit(X1, y)\n",
    "print(elasregrCV.score(X1, y))\n",
    "#Since taking the log, so we need to scale back using exponential.\n",
    "np.exp(elasregrCV.predict(z1))"
   ]
  },
  {
   "cell_type": "code",
   "execution_count": 17,
   "metadata": {},
   "outputs": [],
   "source": [
    "from sklearn.linear_model import ElasticNet\n",
    "regr = ElasticNet(random_state=0)\n",
    "regr.fit(X1, y)\n",
    "ElasticNet(alpha=1.0, fit_intercept=True, l1_ratio=1.0,\n",
    "      max_iter=1000000, random_state=42, selection='random')\n",
    "regr.score(X1,y)"
   ]
  },
  {
   "cell_type": "code",
   "execution_count": 18,
   "metadata": {},
   "outputs": [],
   "source": [
    "elasregrCV1= ElasticNetCV(alphas = [0.0001,0.001,0.01,0.1,1], \n",
    "                         l1_ratio= [.1, .5, .7, .9, .95, .99, .995, 1], \n",
    "                         max_iter=100000, fit_intercept = True, selection = 'random',\n",
    "                         random_state=42)\n",
    "elasregrCV1.fit(X_2, y_1)\n",
    "print(elasregrCV1.score(X_2, y_1))"
   ]
  },
  {
   "cell_type": "code",
   "execution_count": 19,
   "metadata": {},
   "outputs": [],
   "source": [
    "elasregrCV1= ElasticNetCV(alphas = [0.0001,0.001,0.01,0.1,1], \n",
    "                         l1_ratio= [.1, .5, .7, .9, .95, .99, .995, 1], \n",
    "                         max_iter=100000, fit_intercept = True, selection = 'random',\n",
    "                         random_state=42)\n",
    "elasregrCV1.fit(X_2, y_1)\n",
    "print(elasregrCV1.score(X_2, y_1))\n",
    "np.exp(elasregrCV.predict(z1))"
   ]
  },
  {
   "cell_type": "code",
   "execution_count": 20,
   "metadata": {},
   "outputs": [],
   "source": [
    "elasregrCV1= ElasticNetCV(alphas = [0.0001,0.001,0.01,0.1,1], \n",
    "                         l1_ratio= [.1, .5, .7, .9, .95, .99, .995, 1], \n",
    "                         max_iter=100000, fit_intercept = True, selection = 'random',\n",
    "                         random_state=42)\n",
    "elasregrCV1.fit(X_2, y_1)\n",
    "print(elasregrCV1.score(X_2, y_1))\n",
    "np.exp(elasregrCV1.predict(z1))"
   ]
  },
  {
   "cell_type": "code",
   "execution_count": 21,
   "metadata": {},
   "outputs": [],
   "source": [
    "Z_1 = df_test\n",
    "Z_1['Random_Noise'] = np.random.random(size=len(X_1))"
   ]
  },
  {
   "cell_type": "code",
   "execution_count": 22,
   "metadata": {},
   "outputs": [],
   "source": [
    "Z_1 = df_test\n",
    "Z_1['Random_Noise'] = np.random.random(size=len(Z_1))"
   ]
  },
  {
   "cell_type": "code",
   "execution_count": 23,
   "metadata": {},
   "outputs": [],
   "source": [
    "scale.fit(Z_1)\n",
    "Z_2 = scale.transform(Z_1)"
   ]
  },
  {
   "cell_type": "code",
   "execution_count": 24,
   "metadata": {},
   "outputs": [],
   "source": [
    "elasregrCV1= ElasticNetCV(alphas = [0.0001,0.001,0.01,0.1,1], \n",
    "                         l1_ratio= [.1, .5, .7, .9, .95, .99, .995, 1], \n",
    "                         max_iter=100000, fit_intercept = True, selection = 'random',\n",
    "                         random_state=42)\n",
    "elasregrCV1.fit(X_2, y_1)\n",
    "print(elasregrCV1.score(X_2, y_1))\n",
    "np.exp(elasregrCV1.predict(Z_2))"
   ]
  },
  {
   "cell_type": "code",
   "execution_count": 25,
   "metadata": {},
   "outputs": [],
   "source": [
    "results2 = pd.DataFrame(np.exp(elasregrCV1.predict(Z_2)))"
   ]
  },
  {
   "cell_type": "code",
   "execution_count": 26,
   "metadata": {},
   "outputs": [],
   "source": [
    "results2 = pd.DataFrame(np.exp(elasregrCV1.predict(Z_2)))\n",
    "results2.head()"
   ]
  },
  {
   "cell_type": "code",
   "execution_count": 27,
   "metadata": {},
   "outputs": [],
   "source": [
    "results2 = results2.reset_index()\n",
    "results2.columns[0] = 'New_ID'\n",
    "results2['New_ID'] = results2.index + 1461"
   ]
  },
  {
   "cell_type": "code",
   "execution_count": 28,
   "metadata": {},
   "outputs": [],
   "source": [
    "df = df.assign(New_ID=[1461 + i for i in xrange(len(df))])[['New_ID'] + df.columns.tolist()]"
   ]
  },
  {
   "cell_type": "code",
   "execution_count": 29,
   "metadata": {},
   "outputs": [],
   "source": [
    "results2 = results2.assign(New_ID=[1461 + i for i in xrange(len(df))])[['New_ID'] + results2.columns.tolist()]"
   ]
  },
  {
   "cell_type": "code",
   "execution_count": 30,
   "metadata": {},
   "outputs": [],
   "source": [
    "np.range(1461:2919)"
   ]
  },
  {
   "cell_type": "code",
   "execution_count": 31,
   "metadata": {},
   "outputs": [],
   "source": [
    "range(1461:2919)"
   ]
  },
  {
   "cell_type": "code",
   "execution_count": 32,
   "metadata": {},
   "outputs": [],
   "source": [
    "list(range(1461:2919))"
   ]
  },
  {
   "cell_type": "code",
   "execution_count": 33,
   "metadata": {},
   "outputs": [],
   "source": [
    "l = [i for i in range(25,35)]"
   ]
  },
  {
   "cell_type": "code",
   "execution_count": 34,
   "metadata": {},
   "outputs": [],
   "source": [
    "l = [i for i in range(25,35)]\n",
    "l"
   ]
  },
  {
   "cell_type": "code",
   "execution_count": 35,
   "metadata": {},
   "outputs": [],
   "source": [
    "l = [i for i in range(1461,2919)]\n",
    "l"
   ]
  },
  {
   "cell_type": "code",
   "execution_count": 36,
   "metadata": {},
   "outputs": [],
   "source": [
    "l = [i for i in range(1461,2919)]\n",
    "l.tail()"
   ]
  },
  {
   "cell_type": "code",
   "execution_count": 37,
   "metadata": {},
   "outputs": [],
   "source": [
    "l = [i for i in range(1461,2919)]\n",
    "l"
   ]
  },
  {
   "cell_type": "code",
   "execution_count": 38,
   "metadata": {},
   "outputs": [],
   "source": [
    "l = [i for i in range(1461,2919)]\n",
    "type(l)"
   ]
  },
  {
   "cell_type": "code",
   "execution_count": 39,
   "metadata": {},
   "outputs": [],
   "source": [
    "l = [i for i in range(1461,2919)]\n",
    "zip(l,results2)"
   ]
  },
  {
   "cell_type": "code",
   "execution_count": 40,
   "metadata": {},
   "outputs": [],
   "source": [
    "l = [i for i in range(1461,2919)]\n",
    "a = zip(l,results2)"
   ]
  },
  {
   "cell_type": "code",
   "execution_count": 41,
   "metadata": {},
   "outputs": [],
   "source": [
    "l = [i for i in range(1461,2919)]\n",
    "a = zip(l,results2)\n",
    "a"
   ]
  },
  {
   "cell_type": "code",
   "execution_count": 42,
   "metadata": {},
   "outputs": [],
   "source": [
    "l = [i for i in range(1461,2919)]\n",
    "a = list(zip(l,results2))\n",
    "a"
   ]
  },
  {
   "cell_type": "code",
   "execution_count": 43,
   "metadata": {},
   "outputs": [],
   "source": [
    "l = [i for i in range(1461,2919)]\n",
    "a = list(zip(l,results2))\n",
    "a"
   ]
  },
  {
   "cell_type": "code",
   "execution_count": 44,
   "metadata": {},
   "outputs": [],
   "source": [
    "l = [i for i in range(1461,2919)]\n",
    "df['ID'] = l"
   ]
  },
  {
   "cell_type": "code",
   "execution_count": 45,
   "metadata": {},
   "outputs": [],
   "source": [
    "l = [i for i in range(1461,2919)]\n",
    "results2['ID'] = l"
   ]
  },
  {
   "cell_type": "code",
   "execution_count": 46,
   "metadata": {},
   "outputs": [],
   "source": [
    "l = [i for i in range(1461,2919)]\n",
    "results2.reset_index()\n",
    "results2['ID'] = l"
   ]
  },
  {
   "cell_type": "code",
   "execution_count": 47,
   "metadata": {},
   "outputs": [],
   "source": [
    "results2 = pd.DataFrame(np.exp(elasregrCV1.predict(Z_2))+l)\n",
    "results2.head()"
   ]
  },
  {
   "cell_type": "code",
   "execution_count": 48,
   "metadata": {},
   "outputs": [],
   "source": [
    "l = [i for i in range(1461,2919)]\n",
    "results2.reset_index()\n",
    "results2['ID'] = l\n",
    "l.shape()"
   ]
  },
  {
   "cell_type": "code",
   "execution_count": 49,
   "metadata": {},
   "outputs": [],
   "source": [
    "#l = [i for i in range(1461,2919)]\n",
    "l.shape()"
   ]
  },
  {
   "cell_type": "code",
   "execution_count": 50,
   "metadata": {},
   "outputs": [],
   "source": [
    "#l = [i for i in range(1461,2919)]\n",
    "len(l)"
   ]
  },
  {
   "cell_type": "code",
   "execution_count": 51,
   "metadata": {},
   "outputs": [],
   "source": [
    "tail(results2)"
   ]
  },
  {
   "cell_type": "code",
   "execution_count": 52,
   "metadata": {},
   "outputs": [],
   "source": [
    "results2.tail()"
   ]
  },
  {
   "cell_type": "code",
   "execution_count": 53,
   "metadata": {},
   "outputs": [],
   "source": [
    "results2.head()"
   ]
  },
  {
   "cell_type": "code",
   "execution_count": 54,
   "metadata": {},
   "outputs": [],
   "source": [
    "l = pd.DataFrame[i for i in range(1461,2919)]\n",
    "len(l)"
   ]
  },
  {
   "cell_type": "code",
   "execution_count": 55,
   "metadata": {},
   "outputs": [],
   "source": [
    "l = pd.DataFrame([i for i in range(1461,2919)])\n",
    "len(l)"
   ]
  },
  {
   "cell_type": "code",
   "execution_count": 56,
   "metadata": {},
   "outputs": [],
   "source": [
    "l = pd.DataFrame([i for i in range(1461,2919)])\n",
    "l"
   ]
  },
  {
   "cell_type": "code",
   "execution_count": 57,
   "metadata": {},
   "outputs": [],
   "source": [
    "l = pd.DataFrame([i for i in range(1461,2919)])\n",
    "l.reset_index()"
   ]
  },
  {
   "cell_type": "code",
   "execution_count": 58,
   "metadata": {},
   "outputs": [],
   "source": [
    "l = pd.DataFrame([i for i in range(1461,2919)])\n",
    "l.reset_index()\n",
    "l.head()"
   ]
  },
  {
   "cell_type": "code",
   "execution_count": 59,
   "metadata": {},
   "outputs": [],
   "source": [
    "totalresult = pd.merge(l,results, on = 'index')"
   ]
  },
  {
   "cell_type": "code",
   "execution_count": 60,
   "metadata": {},
   "outputs": [],
   "source": [
    "totalresult = pd.merge(l,results2, on = 'index')"
   ]
  },
  {
   "cell_type": "code",
   "execution_count": 61,
   "metadata": {},
   "outputs": [],
   "source": [
    "l = pd.DataFrame([i for i in range(1461,2919)])\n",
    "k = l.reset_index()\n",
    "k.head()"
   ]
  },
  {
   "cell_type": "code",
   "execution_count": 62,
   "metadata": {},
   "outputs": [],
   "source": [
    "totalresult = pd.merge(k,results2, on = 'index')"
   ]
  },
  {
   "cell_type": "code",
   "execution_count": 63,
   "metadata": {},
   "outputs": [],
   "source": [
    "totalresult = pd.merge(k,results2, on = 'index')\n",
    "totalresult.head()"
   ]
  },
  {
   "cell_type": "code",
   "execution_count": 64,
   "metadata": {},
   "outputs": [],
   "source": [
    "totalresult = pd.merge(k,results2, on = 'index')\n",
    "totalresult.head()\n",
    "del(totalresult['index'])"
   ]
  },
  {
   "cell_type": "code",
   "execution_count": 65,
   "metadata": {},
   "outputs": [],
   "source": [
    "totalresult = pd.merge(k,results2, on = 'index')\n",
    "totalresult.head()\n",
    "del(totalresult['index'])\n",
    "totalresult.head()"
   ]
  },
  {
   "cell_type": "code",
   "execution_count": 66,
   "metadata": {},
   "outputs": [],
   "source": [
    "totalresult.rename(index=str, columns={\"0_x\": \"ID\", \"0_y\": \"SalePrice\"})"
   ]
  },
  {
   "cell_type": "code",
   "execution_count": 67,
   "metadata": {},
   "outputs": [],
   "source": [
    "totalresult2 = totalresult.rename(index=str, columns={\"0_x\": \"ID\", \"0_y\": \"SalePrice\"})"
   ]
  },
  {
   "cell_type": "code",
   "execution_count": 68,
   "metadata": {},
   "outputs": [],
   "source": [
    "pd.totalresult2.to_csv(\"kaggle1.csv\")"
   ]
  },
  {
   "cell_type": "code",
   "execution_count": 69,
   "metadata": {},
   "outputs": [],
   "source": [
    "totalresult2.to_csv(\"kaggle1.csv\")"
   ]
  },
  {
   "cell_type": "code",
   "execution_count": 70,
   "metadata": {},
   "outputs": [],
   "source": [
    "np.exp(elasregrCV.predict(z1)).len()"
   ]
  },
  {
   "cell_type": "code",
   "execution_count": 71,
   "metadata": {},
   "outputs": [],
   "source": [
    "len(np.exp(elasregrCV.predict(z1)))"
   ]
  },
  {
   "cell_type": "code",
   "execution_count": 72,
   "metadata": {},
   "outputs": [],
   "source": [
    "elasregrCV1= ElasticNetCV(alphas = [0.0001,0.001,0.01,0.1,1], \n",
    "                         l1_ratio= [.1, .5, .7, .9, .95, .99, .995, 1], \n",
    "                         max_iter=100000, fit_intercept = True, selection = 'random',\n",
    "                         random_state=42)\n",
    "elasregrCV1.fit(X_2, y_1)\n",
    "print(elasregrCV1.score(X_2, y_1))\n",
    "len(np.exp(elasregrCV1.predict(Z_2)))"
   ]
  },
  {
   "cell_type": "code",
   "execution_count": 73,
   "metadata": {},
   "outputs": [],
   "source": [
    "results2 = pd.DataFrame(np.exp(elasregrCV1.predict(Z_2)))\n",
    "len(results2)"
   ]
  },
  {
   "cell_type": "code",
   "execution_count": 74,
   "metadata": {},
   "outputs": [],
   "source": [
    "results2 = pd.DataFrame(np.exp(elasregrCV1.predict(Z_2)))\n",
    "View()"
   ]
  },
  {
   "cell_type": "code",
   "execution_count": 75,
   "metadata": {},
   "outputs": [],
   "source": [
    "results2 = pd.DataFrame(np.exp(elasregrCV1.predict(Z_2)), columns = 'SalePrice')"
   ]
  },
  {
   "cell_type": "code",
   "execution_count": 76,
   "metadata": {},
   "outputs": [],
   "source": [
    "results2 = pd.DataFrame(np.exp(elasregrCV1.predict(Z_2)), columns = 'SalePrice')\n",
    "results2.shape"
   ]
  },
  {
   "cell_type": "code",
   "execution_count": 77,
   "metadata": {},
   "outputs": [],
   "source": [
    "results2 = pd.DataFrame(np.exp(elasregrCV1.predict(Z_2)), columns = 'SalePrice')\n",
    "results2.head()"
   ]
  },
  {
   "cell_type": "code",
   "execution_count": 78,
   "metadata": {},
   "outputs": [],
   "source": [
    "results2 = pd.DataFrame(np.exp(elasregrCV1.predict(Z_2)))\n",
    "results2.head()"
   ]
  },
  {
   "cell_type": "code",
   "execution_count": 79,
   "metadata": {},
   "outputs": [],
   "source": [
    "results2 = pd.DataFrame(np.exp(elasregrCV1.predict(Z_2)))\n",
    "result2.to_csv(\"kagglesample.csv\")"
   ]
  },
  {
   "cell_type": "code",
   "execution_count": 80,
   "metadata": {},
   "outputs": [],
   "source": [
    "results2 = pd.DataFrame(np.exp(elasregrCV1.predict(Z_2)))\n",
    "results2.to_csv(\"kagglesample.csv\")"
   ]
  }
 ],
 "metadata": {},
 "nbformat": 4,
 "nbformat_minor": 2
}
