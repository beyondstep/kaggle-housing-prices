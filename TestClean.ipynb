{
 "cells": [
  {
   "cell_type": "code",
   "execution_count": 3,
   "metadata": {},
   "outputs": [],
   "source": [
    "import pandas as pd\n",
    "import numpy as np\n",
    "from IPython.display import display\n",
    "pd.options.display.max_columns = 5000\n",
    "%matplotlib inline\n",
    "\n",
    "dft = pd.read_csv('data/train.csv')\n",
    "\n",
    "dft = dft.drop('Id', axis = 1)"
   ]
  },
  {
   "cell_type": "code",
   "execution_count": 4,
   "metadata": {},
   "outputs": [],
   "source": [
    "Y = dft['SalePrice']\n",
    "dft = dft.drop('SalePrice', axis=1)"
   ]
  },
  {
   "cell_type": "code",
   "execution_count": 5,
   "metadata": {},
   "outputs": [],
   "source": [
    "cont = []\n",
    "for i in dft.columns:\n",
    "    if (dft[i].dtype == 'float64') | (dft[i].dtype == 'int64'):\n",
    "        cont.append(i)\n",
    "\n",
    "        \n",
    "YrMo = ['YearBuilt', 'YearRemodAdd', 'GarageYrBlt', 'MoSold', 'YrSold']\n",
    "\n",
    "for i in YrMo:\n",
    "    cont.remove(i)\n",
    "\n",
    "dft[cont] = dft[cont].astype('float64')\n",
    "\n",
    "\n",
    "dates = dft[YrMo]"
   ]
  },
  {
   "cell_type": "code",
   "execution_count": 6,
   "metadata": {},
   "outputs": [],
   "source": [
    "x = {}\n",
    "for i in cont:\n",
    "    x[i] = dft[i].nunique()\n",
    "\n",
    "x = pd.DataFrame.from_dict(x, orient='index')\n",
    "\n",
    "y = ['LowQualFinSF', '3SsnPorch', 'PoolArea']\n",
    "\n",
    "mode_na = ['Alley', 'PoolQC', 'Fence','MiscFeature', 'FireplaceQu']\n",
    "\n",
    "\n",
    "nums = dft[list(x[x.iloc[:,0]>=50].index)].astype(object)\n",
    "num_cats = dft[list(x[x.iloc[:,0]<50].index)].astype(object)\n",
    "\n",
    "to_drop = list(nums.columns)+list(dates.columns)+list(num_cats.columns)+mode_na\n",
    "cats =  dft.drop(to_drop, axis = 1)\n",
    "cats_na = dft[mode_na]\n",
    "\n",
    "dates = dft[YrMo].astype(object)\n",
    "\n",
    "\n",
    "#move continuous variables with low-frequency from num_cats to nums\n",
    "nums[y] = num_cats[y]\n",
    "num_cats = num_cats.drop(y, axis=1)"
   ]
  },
  {
   "cell_type": "code",
   "execution_count": 7,
   "metadata": {},
   "outputs": [],
   "source": [
    "nums = nums.fillna(0)"
   ]
  },
  {
   "cell_type": "code",
   "execution_count": 8,
   "metadata": {},
   "outputs": [],
   "source": [
    "def add_dummies_remove_modes(dummy_list, house_raw, house_df):\n",
    "\n",
    "    dummy_modes = list(house_raw[dummy_list].mode().iloc[0,:].items())\n",
    "\n",
    "    dummy_modes = [(col, (float(mode))) if type(mode) == int else (col, mode) for col, mode in dummy_modes]\n",
    "\n",
    "    drop_modes = list(map(lambda x: str(x[0]) + '_' + str(x[1]), dummy_modes))\n",
    "\n",
    "    dummy_cols = pd.get_dummies(house_df[dummy_list].astype(object), dummy_na=True).drop(drop_modes, axis=1)\n",
    "\n",
    "    return pd.concat([\n",
    "       house_df.drop(dummy_list, axis=1),\n",
    "       dummy_cols], axis=1)\n"
   ]
  },
  {
   "cell_type": "code",
   "execution_count": 9,
   "metadata": {},
   "outputs": [],
   "source": [
    "#num_cats dummies\n",
    "num_cats = num_cats.fillna(num_cats.mode())\n",
    "x = add_dummies_remove_modes(list(num_cats.columns), dft, num_cats)\n",
    "\n",
    "x = x.T.drop_duplicates(keep='first').T\n",
    "\n",
    "x = x.drop(x.columns[x.sum()==0], axis=1)\n",
    "\n",
    "num_cats = x"
   ]
  },
  {
   "cell_type": "code",
   "execution_count": 10,
   "metadata": {},
   "outputs": [],
   "source": [
    "#cats dummies\n",
    "x = add_dummies_remove_modes(list(cats.columns),dft,cats)\n",
    "\n",
    "x = x.T.drop_duplicates(keep='first').T\n",
    "\n",
    "x = x.drop(x.columns[x.sum()==0], axis=1)\n",
    "\n",
    "cats = x"
   ]
  },
  {
   "cell_type": "code",
   "execution_count": 11,
   "metadata": {},
   "outputs": [],
   "source": [
    "x = pd.get_dummies(cats_na)\n",
    "\n",
    "x = x.T.drop_duplicates(keep='first').T\n",
    "\n",
    "x = x.drop(x.columns[x.sum()==0], axis=1)\n",
    "\n",
    "cats_na = x"
   ]
  },
  {
   "cell_type": "code",
   "execution_count": 12,
   "metadata": {},
   "outputs": [],
   "source": [
    "dates['GarageBlt'] = ~dates.GarageYrBlt.isna()\n",
    "dates = dates.drop('GarageYrBlt', axis=1)\n",
    "dates['GarageBlt'] = dates['GarageBlt'].apply(lambda x: sum([x]))"
   ]
  },
  {
   "cell_type": "code",
   "execution_count": 13,
   "metadata": {},
   "outputs": [],
   "source": [
    "df_train_final = pd.concat([dates, nums, num_cats, cats, cats_na], axis=1)"
   ]
  },
  {
   "cell_type": "code",
   "execution_count": 14,
   "metadata": {},
   "outputs": [
    {
     "data": {
      "text/plain": [
       "(1460, 330)"
      ]
     },
     "execution_count": 14,
     "metadata": {},
     "output_type": "execute_result"
    }
   ],
   "source": [
    "df_train_final.shape"
   ]
  },
  {
   "cell_type": "code",
   "execution_count": 15,
   "metadata": {},
   "outputs": [
    {
     "data": {
      "text/plain": [
       "(1460, 327)"
      ]
     },
     "execution_count": 15,
     "metadata": {},
     "output_type": "execute_result"
    }
   ],
   "source": [
    "df_train_final = df_train_final.T.drop_duplicates(keep='first').T"
   ]
  },
  {
   "cell_type": "code",
   "execution_count": null,
   "metadata": {},
   "outputs": [],
   "source": [
    "df_train_final.to_pickle('C:/Users/phili/NYCDSA/Machine_Learning/Project1/kaggle-housing-prices/phil_train_clean_pipe.pkl')"
   ]
  },
  {
   "cell_type": "code",
   "execution_count": null,
   "metadata": {},
   "outputs": [],
   "source": [
    "# from sklearn.linear_model import LinearRegression, Ridge, Lasso, ElasticNet\n",
    "\n",
    "# lasso  = Lasso()\n",
    "# alphas = np.linspace(0.1,20.1,20)\n",
    "# lasso.set_params(normalize=False)\n",
    "# coefs_lasso  = []\n",
    "\n",
    "# for alpha in alphas:\n",
    "#         lasso.set_params(alpha=alpha)\n",
    "#         lasso.fit(dfpd, Y)  \n",
    "#         coefs_lasso.append(lasso.coef_)\n",
    "\n",
    "# coefs_lasso = pd.DataFrame(coefs_lasso, index = alphas, columns = dfpd.columns)  \n",
    "# coefs_lasso.head()"
   ]
  },
  {
   "cell_type": "code",
   "execution_count": null,
   "metadata": {},
   "outputs": [],
   "source": []
  }
 ],
 "metadata": {
  "kernelspec": {
   "display_name": "Python 3",
   "language": "python",
   "name": "python3"
  },
  "language_info": {
   "codemirror_mode": {
    "name": "ipython",
    "version": 3
   },
   "file_extension": ".py",
   "mimetype": "text/x-python",
   "name": "python",
   "nbconvert_exporter": "python",
   "pygments_lexer": "ipython3",
   "version": "3.6.7"
  }
 },
 "nbformat": 4,
 "nbformat_minor": 2
}
